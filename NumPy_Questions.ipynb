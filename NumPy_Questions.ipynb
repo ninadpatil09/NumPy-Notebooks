{
  "nbformat": 4,
  "nbformat_minor": 0,
  "metadata": {
    "colab": {
      "provenance": [],
      "collapsed_sections": [
        "t7VH-Yz3S90L",
        "FT4R06mkc0tL",
        "Ld54TNTjw1P7",
        "gEOyP_zPpwdb",
        "ix_zdtw04H-J",
        "bm391YAG7qi2",
        "nkIrxNgt7ltH",
        "Z0ZxkyVA7vmH",
        "xbzW7VBu70cz",
        "jpM0zG27-ZYG",
        "GPPW3ec6-dPK",
        "xDv1xv56_fKl",
        "7i6Pwz8yakAk",
        "Fhyd7pymbRFA",
        "NVSZ6AnEceE7",
        "Y0e0JGIlkZ-n",
        "W3OAQIT5kf8W",
        "AO4vEnpykoJC",
        "Q8L_MQxUksRl",
        "g4PKX3wEk0RT",
        "10mEMTwzk6jE",
        "IGvDeyPik_Ll",
        "bG23tbb_GCES",
        "VQzvh1Cic1DU",
        "94xmvf5pdHrQ",
        "l3AeWYLjd56v",
        "1OMtdJqoe4HY",
        "1sRfyWIqfZbo",
        "dhnuDvJKfcXV",
        "M9kc09Mvf0F1",
        "uR697fqMgKhG",
        "8MwKPlz-gdGE"
      ]
    },
    "kernelspec": {
      "name": "python3",
      "display_name": "Python 3"
    },
    "language_info": {
      "name": "python"
    }
  },
  "cells": [
    {
      "cell_type": "markdown",
      "source": [
        "### What is NumPy? Why to use it? Why it is popular in Machine Learning?\n",
        "\n",
        "  - NumPy is a powerful Python library for numerical and matrix operations.\n",
        "  - It provides support for large, multi-dimensional arrays and matrices, along with mathematical functions to operate on these arrays efficiently.\n",
        "  - NumPy is popular due to its ease of use, high performance, and integration with other scientific computing libraries."
      ],
      "metadata": {
        "id": "bNmljc1TVBIH"
      }
    },
    {
      "cell_type": "markdown",
      "source": [
        "### How does NumPy differ from Python lists, and what advantages does NumPy offer?\n",
        "\n",
        "  - NumPy arrays are homogeneous and contain elements of the same data type, whereas Python lists can contain elements of different data types.\n",
        "  - NumPy arrays provide more functionality for mathematical operations and array manipulations compared to Python lists.\n",
        "  - NumPy arrays are more memory-efficient and faster than Python lists for numerical operations."
      ],
      "metadata": {
        "id": "uGtC2xcrWHZ5"
      }
    },
    {
      "cell_type": "markdown",
      "source": [
        "### Why to use NumPy arrays, How are they different?\n",
        "\n",
        "  Vectorized Operations:\n",
        "\n",
        "    NumPy performs operations directly on entire arrays rather than looping through\n",
        "    each element one by one.\n",
        "    This is achieved using SIMD (Single Instruction, Multiple Data), making NumPy arrays faster due to vectorization.\n",
        "\n",
        "  Fixed Size Array:\n",
        "\n",
        "    When creating a NumPy array, its size is fixed, and memory is allocated all at once.\n",
        "    This allows NumPy to store data in a continuous block of memory, improving processing efficiency.\n",
        "\n",
        "  Adding Elements to an Array:\n",
        "\n",
        "    Unlike Python lists, you cannot add elements directly to a NumPy array after it's created.\n",
        "    To add elements, you need to create a new array and copy the existing data.\n",
        "    Functions like np.append() create a new array under the hood, involving data copying.\n",
        "      \n",
        "  Contiguous Memory Block:\n",
        "\n",
        "    NumPy stores elements in a single continuous block of memory.\n",
        "    This enables faster access by the CPU compared to Python lists, which may not be stored contiguously.\n",
        "  \n",
        "  Fixed Data Type:\n",
        "\n",
        "    All elements in a NumPy array must be of the same data type.\n",
        "    This consistency allows NumPy to use a fixed amount of memory for each element,\n",
        "    unlike Python lists, which can store various types and require extra memory to manage different data types."
      ],
      "metadata": {
        "id": "wKU0V9TycC7p"
      }
    },
    {
      "cell_type": "markdown",
      "source": [
        "# Array Creation and Initialization"
      ],
      "metadata": {
        "id": "t7VH-Yz3S90L"
      }
    },
    {
      "cell_type": "code",
      "execution_count": null,
      "metadata": {
        "id": "zs1kY-seUdtT"
      },
      "outputs": [],
      "source": [
        "import numpy as np\n",
        "import pandas as pd"
      ]
    },
    {
      "cell_type": "code",
      "source": [
        "# Creating a sample DataFrame\n",
        "data = {'A': [1, 2, 3], 'B': [4, 5, 6], 'C': [7, 8, 9]}\n",
        "df = pd.DataFrame(data)\n",
        "df.head()"
      ],
      "metadata": {
        "id": "6uX_BUQKYkM4",
        "colab": {
          "base_uri": "https://localhost:8080/",
          "height": 143
        },
        "outputId": "934134e6-725b-4693-beee-06c28c26d5c5"
      },
      "execution_count": null,
      "outputs": [
        {
          "output_type": "execute_result",
          "data": {
            "text/plain": [
              "   A  B  C\n",
              "0  1  4  7\n",
              "1  2  5  8\n",
              "2  3  6  9"
            ],
            "text/html": [
              "\n",
              "  <div id=\"df-12b49d0d-33c2-4baa-b550-bf710ca6fce3\" class=\"colab-df-container\">\n",
              "    <div>\n",
              "<style scoped>\n",
              "    .dataframe tbody tr th:only-of-type {\n",
              "        vertical-align: middle;\n",
              "    }\n",
              "\n",
              "    .dataframe tbody tr th {\n",
              "        vertical-align: top;\n",
              "    }\n",
              "\n",
              "    .dataframe thead th {\n",
              "        text-align: right;\n",
              "    }\n",
              "</style>\n",
              "<table border=\"1\" class=\"dataframe\">\n",
              "  <thead>\n",
              "    <tr style=\"text-align: right;\">\n",
              "      <th></th>\n",
              "      <th>A</th>\n",
              "      <th>B</th>\n",
              "      <th>C</th>\n",
              "    </tr>\n",
              "  </thead>\n",
              "  <tbody>\n",
              "    <tr>\n",
              "      <th>0</th>\n",
              "      <td>1</td>\n",
              "      <td>4</td>\n",
              "      <td>7</td>\n",
              "    </tr>\n",
              "    <tr>\n",
              "      <th>1</th>\n",
              "      <td>2</td>\n",
              "      <td>5</td>\n",
              "      <td>8</td>\n",
              "    </tr>\n",
              "    <tr>\n",
              "      <th>2</th>\n",
              "      <td>3</td>\n",
              "      <td>6</td>\n",
              "      <td>9</td>\n",
              "    </tr>\n",
              "  </tbody>\n",
              "</table>\n",
              "</div>\n",
              "    <div class=\"colab-df-buttons\">\n",
              "\n",
              "  <div class=\"colab-df-container\">\n",
              "    <button class=\"colab-df-convert\" onclick=\"convertToInteractive('df-12b49d0d-33c2-4baa-b550-bf710ca6fce3')\"\n",
              "            title=\"Convert this dataframe to an interactive table.\"\n",
              "            style=\"display:none;\">\n",
              "\n",
              "  <svg xmlns=\"http://www.w3.org/2000/svg\" height=\"24px\" viewBox=\"0 -960 960 960\">\n",
              "    <path d=\"M120-120v-720h720v720H120Zm60-500h600v-160H180v160Zm220 220h160v-160H400v160Zm0 220h160v-160H400v160ZM180-400h160v-160H180v160Zm440 0h160v-160H620v160ZM180-180h160v-160H180v160Zm440 0h160v-160H620v160Z\"/>\n",
              "  </svg>\n",
              "    </button>\n",
              "\n",
              "  <style>\n",
              "    .colab-df-container {\n",
              "      display:flex;\n",
              "      gap: 12px;\n",
              "    }\n",
              "\n",
              "    .colab-df-convert {\n",
              "      background-color: #E8F0FE;\n",
              "      border: none;\n",
              "      border-radius: 50%;\n",
              "      cursor: pointer;\n",
              "      display: none;\n",
              "      fill: #1967D2;\n",
              "      height: 32px;\n",
              "      padding: 0 0 0 0;\n",
              "      width: 32px;\n",
              "    }\n",
              "\n",
              "    .colab-df-convert:hover {\n",
              "      background-color: #E2EBFA;\n",
              "      box-shadow: 0px 1px 2px rgba(60, 64, 67, 0.3), 0px 1px 3px 1px rgba(60, 64, 67, 0.15);\n",
              "      fill: #174EA6;\n",
              "    }\n",
              "\n",
              "    .colab-df-buttons div {\n",
              "      margin-bottom: 4px;\n",
              "    }\n",
              "\n",
              "    [theme=dark] .colab-df-convert {\n",
              "      background-color: #3B4455;\n",
              "      fill: #D2E3FC;\n",
              "    }\n",
              "\n",
              "    [theme=dark] .colab-df-convert:hover {\n",
              "      background-color: #434B5C;\n",
              "      box-shadow: 0px 1px 3px 1px rgba(0, 0, 0, 0.15);\n",
              "      filter: drop-shadow(0px 1px 2px rgba(0, 0, 0, 0.3));\n",
              "      fill: #FFFFFF;\n",
              "    }\n",
              "  </style>\n",
              "\n",
              "    <script>\n",
              "      const buttonEl =\n",
              "        document.querySelector('#df-12b49d0d-33c2-4baa-b550-bf710ca6fce3 button.colab-df-convert');\n",
              "      buttonEl.style.display =\n",
              "        google.colab.kernel.accessAllowed ? 'block' : 'none';\n",
              "\n",
              "      async function convertToInteractive(key) {\n",
              "        const element = document.querySelector('#df-12b49d0d-33c2-4baa-b550-bf710ca6fce3');\n",
              "        const dataTable =\n",
              "          await google.colab.kernel.invokeFunction('convertToInteractive',\n",
              "                                                    [key], {});\n",
              "        if (!dataTable) return;\n",
              "\n",
              "        const docLinkHtml = 'Like what you see? Visit the ' +\n",
              "          '<a target=\"_blank\" href=https://colab.research.google.com/notebooks/data_table.ipynb>data table notebook</a>'\n",
              "          + ' to learn more about interactive tables.';\n",
              "        element.innerHTML = '';\n",
              "        dataTable['output_type'] = 'display_data';\n",
              "        await google.colab.output.renderOutput(dataTable, element);\n",
              "        const docLink = document.createElement('div');\n",
              "        docLink.innerHTML = docLinkHtml;\n",
              "        element.appendChild(docLink);\n",
              "      }\n",
              "    </script>\n",
              "  </div>\n",
              "\n",
              "\n",
              "<div id=\"df-a8924e0b-8535-446c-b5c6-5555e3da2787\">\n",
              "  <button class=\"colab-df-quickchart\" onclick=\"quickchart('df-a8924e0b-8535-446c-b5c6-5555e3da2787')\"\n",
              "            title=\"Suggest charts\"\n",
              "            style=\"display:none;\">\n",
              "\n",
              "<svg xmlns=\"http://www.w3.org/2000/svg\" height=\"24px\"viewBox=\"0 0 24 24\"\n",
              "     width=\"24px\">\n",
              "    <g>\n",
              "        <path d=\"M19 3H5c-1.1 0-2 .9-2 2v14c0 1.1.9 2 2 2h14c1.1 0 2-.9 2-2V5c0-1.1-.9-2-2-2zM9 17H7v-7h2v7zm4 0h-2V7h2v10zm4 0h-2v-4h2v4z\"/>\n",
              "    </g>\n",
              "</svg>\n",
              "  </button>\n",
              "\n",
              "<style>\n",
              "  .colab-df-quickchart {\n",
              "      --bg-color: #E8F0FE;\n",
              "      --fill-color: #1967D2;\n",
              "      --hover-bg-color: #E2EBFA;\n",
              "      --hover-fill-color: #174EA6;\n",
              "      --disabled-fill-color: #AAA;\n",
              "      --disabled-bg-color: #DDD;\n",
              "  }\n",
              "\n",
              "  [theme=dark] .colab-df-quickchart {\n",
              "      --bg-color: #3B4455;\n",
              "      --fill-color: #D2E3FC;\n",
              "      --hover-bg-color: #434B5C;\n",
              "      --hover-fill-color: #FFFFFF;\n",
              "      --disabled-bg-color: #3B4455;\n",
              "      --disabled-fill-color: #666;\n",
              "  }\n",
              "\n",
              "  .colab-df-quickchart {\n",
              "    background-color: var(--bg-color);\n",
              "    border: none;\n",
              "    border-radius: 50%;\n",
              "    cursor: pointer;\n",
              "    display: none;\n",
              "    fill: var(--fill-color);\n",
              "    height: 32px;\n",
              "    padding: 0;\n",
              "    width: 32px;\n",
              "  }\n",
              "\n",
              "  .colab-df-quickchart:hover {\n",
              "    background-color: var(--hover-bg-color);\n",
              "    box-shadow: 0 1px 2px rgba(60, 64, 67, 0.3), 0 1px 3px 1px rgba(60, 64, 67, 0.15);\n",
              "    fill: var(--button-hover-fill-color);\n",
              "  }\n",
              "\n",
              "  .colab-df-quickchart-complete:disabled,\n",
              "  .colab-df-quickchart-complete:disabled:hover {\n",
              "    background-color: var(--disabled-bg-color);\n",
              "    fill: var(--disabled-fill-color);\n",
              "    box-shadow: none;\n",
              "  }\n",
              "\n",
              "  .colab-df-spinner {\n",
              "    border: 2px solid var(--fill-color);\n",
              "    border-color: transparent;\n",
              "    border-bottom-color: var(--fill-color);\n",
              "    animation:\n",
              "      spin 1s steps(1) infinite;\n",
              "  }\n",
              "\n",
              "  @keyframes spin {\n",
              "    0% {\n",
              "      border-color: transparent;\n",
              "      border-bottom-color: var(--fill-color);\n",
              "      border-left-color: var(--fill-color);\n",
              "    }\n",
              "    20% {\n",
              "      border-color: transparent;\n",
              "      border-left-color: var(--fill-color);\n",
              "      border-top-color: var(--fill-color);\n",
              "    }\n",
              "    30% {\n",
              "      border-color: transparent;\n",
              "      border-left-color: var(--fill-color);\n",
              "      border-top-color: var(--fill-color);\n",
              "      border-right-color: var(--fill-color);\n",
              "    }\n",
              "    40% {\n",
              "      border-color: transparent;\n",
              "      border-right-color: var(--fill-color);\n",
              "      border-top-color: var(--fill-color);\n",
              "    }\n",
              "    60% {\n",
              "      border-color: transparent;\n",
              "      border-right-color: var(--fill-color);\n",
              "    }\n",
              "    80% {\n",
              "      border-color: transparent;\n",
              "      border-right-color: var(--fill-color);\n",
              "      border-bottom-color: var(--fill-color);\n",
              "    }\n",
              "    90% {\n",
              "      border-color: transparent;\n",
              "      border-bottom-color: var(--fill-color);\n",
              "    }\n",
              "  }\n",
              "</style>\n",
              "\n",
              "  <script>\n",
              "    async function quickchart(key) {\n",
              "      const quickchartButtonEl =\n",
              "        document.querySelector('#' + key + ' button');\n",
              "      quickchartButtonEl.disabled = true;  // To prevent multiple clicks.\n",
              "      quickchartButtonEl.classList.add('colab-df-spinner');\n",
              "      try {\n",
              "        const charts = await google.colab.kernel.invokeFunction(\n",
              "            'suggestCharts', [key], {});\n",
              "      } catch (error) {\n",
              "        console.error('Error during call to suggestCharts:', error);\n",
              "      }\n",
              "      quickchartButtonEl.classList.remove('colab-df-spinner');\n",
              "      quickchartButtonEl.classList.add('colab-df-quickchart-complete');\n",
              "    }\n",
              "    (() => {\n",
              "      let quickchartButtonEl =\n",
              "        document.querySelector('#df-a8924e0b-8535-446c-b5c6-5555e3da2787 button');\n",
              "      quickchartButtonEl.style.display =\n",
              "        google.colab.kernel.accessAllowed ? 'block' : 'none';\n",
              "    })();\n",
              "  </script>\n",
              "</div>\n",
              "\n",
              "    </div>\n",
              "  </div>\n"
            ],
            "application/vnd.google.colaboratory.intrinsic+json": {
              "type": "dataframe",
              "variable_name": "df",
              "summary": "{\n  \"name\": \"df\",\n  \"rows\": 3,\n  \"fields\": [\n    {\n      \"column\": \"A\",\n      \"properties\": {\n        \"dtype\": \"number\",\n        \"std\": 1,\n        \"min\": 1,\n        \"max\": 3,\n        \"num_unique_values\": 3,\n        \"samples\": [\n          1,\n          2,\n          3\n        ],\n        \"semantic_type\": \"\",\n        \"description\": \"\"\n      }\n    },\n    {\n      \"column\": \"B\",\n      \"properties\": {\n        \"dtype\": \"number\",\n        \"std\": 1,\n        \"min\": 4,\n        \"max\": 6,\n        \"num_unique_values\": 3,\n        \"samples\": [\n          4,\n          5,\n          6\n        ],\n        \"semantic_type\": \"\",\n        \"description\": \"\"\n      }\n    },\n    {\n      \"column\": \"C\",\n      \"properties\": {\n        \"dtype\": \"number\",\n        \"std\": 1,\n        \"min\": 7,\n        \"max\": 9,\n        \"num_unique_values\": 3,\n        \"samples\": [\n          7,\n          8,\n          9\n        ],\n        \"semantic_type\": \"\",\n        \"description\": \"\"\n      }\n    }\n  ]\n}"
            }
          },
          "metadata": {},
          "execution_count": 4
        }
      ]
    },
    {
      "cell_type": "code",
      "source": [
        "# Converting the DataFrame to a NumPy array\n",
        "array_from_df = df.to_numpy()\n",
        "array_from_df"
      ],
      "metadata": {
        "colab": {
          "base_uri": "https://localhost:8080/"
        },
        "id": "Sn-ia-0mTK3s",
        "outputId": "716b4fb3-1be0-42ac-86f3-df4fe4829c24"
      },
      "execution_count": null,
      "outputs": [
        {
          "output_type": "execute_result",
          "data": {
            "text/plain": [
              "array([[1, 4, 7],\n",
              "       [2, 5, 8],\n",
              "       [3, 6, 9]])"
            ]
          },
          "metadata": {},
          "execution_count": 5
        }
      ]
    },
    {
      "cell_type": "code",
      "source": [
        "pd.DataFrame(array_from_df)"
      ],
      "metadata": {
        "colab": {
          "base_uri": "https://localhost:8080/",
          "height": 143
        },
        "id": "zaRDfR3gVSW4",
        "outputId": "cf263cd0-4563-40bb-ed8d-07d195504779"
      },
      "execution_count": null,
      "outputs": [
        {
          "output_type": "execute_result",
          "data": {
            "text/plain": [
              "   0  1  2\n",
              "0  1  4  7\n",
              "1  2  5  8\n",
              "2  3  6  9"
            ],
            "text/html": [
              "\n",
              "  <div id=\"df-34bbd5ea-507d-4b28-9e34-e10965475251\" class=\"colab-df-container\">\n",
              "    <div>\n",
              "<style scoped>\n",
              "    .dataframe tbody tr th:only-of-type {\n",
              "        vertical-align: middle;\n",
              "    }\n",
              "\n",
              "    .dataframe tbody tr th {\n",
              "        vertical-align: top;\n",
              "    }\n",
              "\n",
              "    .dataframe thead th {\n",
              "        text-align: right;\n",
              "    }\n",
              "</style>\n",
              "<table border=\"1\" class=\"dataframe\">\n",
              "  <thead>\n",
              "    <tr style=\"text-align: right;\">\n",
              "      <th></th>\n",
              "      <th>0</th>\n",
              "      <th>1</th>\n",
              "      <th>2</th>\n",
              "    </tr>\n",
              "  </thead>\n",
              "  <tbody>\n",
              "    <tr>\n",
              "      <th>0</th>\n",
              "      <td>1</td>\n",
              "      <td>4</td>\n",
              "      <td>7</td>\n",
              "    </tr>\n",
              "    <tr>\n",
              "      <th>1</th>\n",
              "      <td>2</td>\n",
              "      <td>5</td>\n",
              "      <td>8</td>\n",
              "    </tr>\n",
              "    <tr>\n",
              "      <th>2</th>\n",
              "      <td>3</td>\n",
              "      <td>6</td>\n",
              "      <td>9</td>\n",
              "    </tr>\n",
              "  </tbody>\n",
              "</table>\n",
              "</div>\n",
              "    <div class=\"colab-df-buttons\">\n",
              "\n",
              "  <div class=\"colab-df-container\">\n",
              "    <button class=\"colab-df-convert\" onclick=\"convertToInteractive('df-34bbd5ea-507d-4b28-9e34-e10965475251')\"\n",
              "            title=\"Convert this dataframe to an interactive table.\"\n",
              "            style=\"display:none;\">\n",
              "\n",
              "  <svg xmlns=\"http://www.w3.org/2000/svg\" height=\"24px\" viewBox=\"0 -960 960 960\">\n",
              "    <path d=\"M120-120v-720h720v720H120Zm60-500h600v-160H180v160Zm220 220h160v-160H400v160Zm0 220h160v-160H400v160ZM180-400h160v-160H180v160Zm440 0h160v-160H620v160ZM180-180h160v-160H180v160Zm440 0h160v-160H620v160Z\"/>\n",
              "  </svg>\n",
              "    </button>\n",
              "\n",
              "  <style>\n",
              "    .colab-df-container {\n",
              "      display:flex;\n",
              "      gap: 12px;\n",
              "    }\n",
              "\n",
              "    .colab-df-convert {\n",
              "      background-color: #E8F0FE;\n",
              "      border: none;\n",
              "      border-radius: 50%;\n",
              "      cursor: pointer;\n",
              "      display: none;\n",
              "      fill: #1967D2;\n",
              "      height: 32px;\n",
              "      padding: 0 0 0 0;\n",
              "      width: 32px;\n",
              "    }\n",
              "\n",
              "    .colab-df-convert:hover {\n",
              "      background-color: #E2EBFA;\n",
              "      box-shadow: 0px 1px 2px rgba(60, 64, 67, 0.3), 0px 1px 3px 1px rgba(60, 64, 67, 0.15);\n",
              "      fill: #174EA6;\n",
              "    }\n",
              "\n",
              "    .colab-df-buttons div {\n",
              "      margin-bottom: 4px;\n",
              "    }\n",
              "\n",
              "    [theme=dark] .colab-df-convert {\n",
              "      background-color: #3B4455;\n",
              "      fill: #D2E3FC;\n",
              "    }\n",
              "\n",
              "    [theme=dark] .colab-df-convert:hover {\n",
              "      background-color: #434B5C;\n",
              "      box-shadow: 0px 1px 3px 1px rgba(0, 0, 0, 0.15);\n",
              "      filter: drop-shadow(0px 1px 2px rgba(0, 0, 0, 0.3));\n",
              "      fill: #FFFFFF;\n",
              "    }\n",
              "  </style>\n",
              "\n",
              "    <script>\n",
              "      const buttonEl =\n",
              "        document.querySelector('#df-34bbd5ea-507d-4b28-9e34-e10965475251 button.colab-df-convert');\n",
              "      buttonEl.style.display =\n",
              "        google.colab.kernel.accessAllowed ? 'block' : 'none';\n",
              "\n",
              "      async function convertToInteractive(key) {\n",
              "        const element = document.querySelector('#df-34bbd5ea-507d-4b28-9e34-e10965475251');\n",
              "        const dataTable =\n",
              "          await google.colab.kernel.invokeFunction('convertToInteractive',\n",
              "                                                    [key], {});\n",
              "        if (!dataTable) return;\n",
              "\n",
              "        const docLinkHtml = 'Like what you see? Visit the ' +\n",
              "          '<a target=\"_blank\" href=https://colab.research.google.com/notebooks/data_table.ipynb>data table notebook</a>'\n",
              "          + ' to learn more about interactive tables.';\n",
              "        element.innerHTML = '';\n",
              "        dataTable['output_type'] = 'display_data';\n",
              "        await google.colab.output.renderOutput(dataTable, element);\n",
              "        const docLink = document.createElement('div');\n",
              "        docLink.innerHTML = docLinkHtml;\n",
              "        element.appendChild(docLink);\n",
              "      }\n",
              "    </script>\n",
              "  </div>\n",
              "\n",
              "\n",
              "<div id=\"df-70c3ceac-0d61-4097-83a6-a81cf9e1a050\">\n",
              "  <button class=\"colab-df-quickchart\" onclick=\"quickchart('df-70c3ceac-0d61-4097-83a6-a81cf9e1a050')\"\n",
              "            title=\"Suggest charts\"\n",
              "            style=\"display:none;\">\n",
              "\n",
              "<svg xmlns=\"http://www.w3.org/2000/svg\" height=\"24px\"viewBox=\"0 0 24 24\"\n",
              "     width=\"24px\">\n",
              "    <g>\n",
              "        <path d=\"M19 3H5c-1.1 0-2 .9-2 2v14c0 1.1.9 2 2 2h14c1.1 0 2-.9 2-2V5c0-1.1-.9-2-2-2zM9 17H7v-7h2v7zm4 0h-2V7h2v10zm4 0h-2v-4h2v4z\"/>\n",
              "    </g>\n",
              "</svg>\n",
              "  </button>\n",
              "\n",
              "<style>\n",
              "  .colab-df-quickchart {\n",
              "      --bg-color: #E8F0FE;\n",
              "      --fill-color: #1967D2;\n",
              "      --hover-bg-color: #E2EBFA;\n",
              "      --hover-fill-color: #174EA6;\n",
              "      --disabled-fill-color: #AAA;\n",
              "      --disabled-bg-color: #DDD;\n",
              "  }\n",
              "\n",
              "  [theme=dark] .colab-df-quickchart {\n",
              "      --bg-color: #3B4455;\n",
              "      --fill-color: #D2E3FC;\n",
              "      --hover-bg-color: #434B5C;\n",
              "      --hover-fill-color: #FFFFFF;\n",
              "      --disabled-bg-color: #3B4455;\n",
              "      --disabled-fill-color: #666;\n",
              "  }\n",
              "\n",
              "  .colab-df-quickchart {\n",
              "    background-color: var(--bg-color);\n",
              "    border: none;\n",
              "    border-radius: 50%;\n",
              "    cursor: pointer;\n",
              "    display: none;\n",
              "    fill: var(--fill-color);\n",
              "    height: 32px;\n",
              "    padding: 0;\n",
              "    width: 32px;\n",
              "  }\n",
              "\n",
              "  .colab-df-quickchart:hover {\n",
              "    background-color: var(--hover-bg-color);\n",
              "    box-shadow: 0 1px 2px rgba(60, 64, 67, 0.3), 0 1px 3px 1px rgba(60, 64, 67, 0.15);\n",
              "    fill: var(--button-hover-fill-color);\n",
              "  }\n",
              "\n",
              "  .colab-df-quickchart-complete:disabled,\n",
              "  .colab-df-quickchart-complete:disabled:hover {\n",
              "    background-color: var(--disabled-bg-color);\n",
              "    fill: var(--disabled-fill-color);\n",
              "    box-shadow: none;\n",
              "  }\n",
              "\n",
              "  .colab-df-spinner {\n",
              "    border: 2px solid var(--fill-color);\n",
              "    border-color: transparent;\n",
              "    border-bottom-color: var(--fill-color);\n",
              "    animation:\n",
              "      spin 1s steps(1) infinite;\n",
              "  }\n",
              "\n",
              "  @keyframes spin {\n",
              "    0% {\n",
              "      border-color: transparent;\n",
              "      border-bottom-color: var(--fill-color);\n",
              "      border-left-color: var(--fill-color);\n",
              "    }\n",
              "    20% {\n",
              "      border-color: transparent;\n",
              "      border-left-color: var(--fill-color);\n",
              "      border-top-color: var(--fill-color);\n",
              "    }\n",
              "    30% {\n",
              "      border-color: transparent;\n",
              "      border-left-color: var(--fill-color);\n",
              "      border-top-color: var(--fill-color);\n",
              "      border-right-color: var(--fill-color);\n",
              "    }\n",
              "    40% {\n",
              "      border-color: transparent;\n",
              "      border-right-color: var(--fill-color);\n",
              "      border-top-color: var(--fill-color);\n",
              "    }\n",
              "    60% {\n",
              "      border-color: transparent;\n",
              "      border-right-color: var(--fill-color);\n",
              "    }\n",
              "    80% {\n",
              "      border-color: transparent;\n",
              "      border-right-color: var(--fill-color);\n",
              "      border-bottom-color: var(--fill-color);\n",
              "    }\n",
              "    90% {\n",
              "      border-color: transparent;\n",
              "      border-bottom-color: var(--fill-color);\n",
              "    }\n",
              "  }\n",
              "</style>\n",
              "\n",
              "  <script>\n",
              "    async function quickchart(key) {\n",
              "      const quickchartButtonEl =\n",
              "        document.querySelector('#' + key + ' button');\n",
              "      quickchartButtonEl.disabled = true;  // To prevent multiple clicks.\n",
              "      quickchartButtonEl.classList.add('colab-df-spinner');\n",
              "      try {\n",
              "        const charts = await google.colab.kernel.invokeFunction(\n",
              "            'suggestCharts', [key], {});\n",
              "      } catch (error) {\n",
              "        console.error('Error during call to suggestCharts:', error);\n",
              "      }\n",
              "      quickchartButtonEl.classList.remove('colab-df-spinner');\n",
              "      quickchartButtonEl.classList.add('colab-df-quickchart-complete');\n",
              "    }\n",
              "    (() => {\n",
              "      let quickchartButtonEl =\n",
              "        document.querySelector('#df-70c3ceac-0d61-4097-83a6-a81cf9e1a050 button');\n",
              "      quickchartButtonEl.style.display =\n",
              "        google.colab.kernel.accessAllowed ? 'block' : 'none';\n",
              "    })();\n",
              "  </script>\n",
              "</div>\n",
              "\n",
              "    </div>\n",
              "  </div>\n"
            ],
            "application/vnd.google.colaboratory.intrinsic+json": {
              "type": "dataframe",
              "summary": "{\n  \"name\": \"pd\",\n  \"rows\": 3,\n  \"fields\": [\n    {\n      \"column\": 0,\n      \"properties\": {\n        \"dtype\": \"number\",\n        \"std\": 1,\n        \"min\": 1,\n        \"max\": 3,\n        \"num_unique_values\": 3,\n        \"samples\": [\n          1,\n          2,\n          3\n        ],\n        \"semantic_type\": \"\",\n        \"description\": \"\"\n      }\n    },\n    {\n      \"column\": 1,\n      \"properties\": {\n        \"dtype\": \"number\",\n        \"std\": 1,\n        \"min\": 4,\n        \"max\": 6,\n        \"num_unique_values\": 3,\n        \"samples\": [\n          4,\n          5,\n          6\n        ],\n        \"semantic_type\": \"\",\n        \"description\": \"\"\n      }\n    },\n    {\n      \"column\": 2,\n      \"properties\": {\n        \"dtype\": \"number\",\n        \"std\": 1,\n        \"min\": 7,\n        \"max\": 9,\n        \"num_unique_values\": 3,\n        \"samples\": [\n          7,\n          8,\n          9\n        ],\n        \"semantic_type\": \"\",\n        \"description\": \"\"\n      }\n    }\n  ]\n}"
            }
          },
          "metadata": {},
          "execution_count": 7
        }
      ]
    },
    {
      "cell_type": "code",
      "source": [
        "# Creating a NumPy array\n",
        "array_data = np.array([[10, 20, 30], [40, 50, 60], [70, 80, 90]])\n",
        "array_data\n"
      ],
      "metadata": {
        "colab": {
          "base_uri": "https://localhost:8080/"
        },
        "id": "uETdEUweVpjc",
        "outputId": "2eb6b227-7b0a-4b13-9d80-5c78ddf9f86d"
      },
      "execution_count": null,
      "outputs": [
        {
          "output_type": "execute_result",
          "data": {
            "text/plain": [
              "array([[10, 20, 30],\n",
              "       [40, 50, 60],\n",
              "       [70, 80, 90]])"
            ]
          },
          "metadata": {},
          "execution_count": 8
        }
      ]
    },
    {
      "cell_type": "code",
      "source": [
        "# Converting the NumPy array to a DataFrame\n",
        "df_from_array = pd.DataFrame(array_data, columns=['X', 'Y', 'Z'])\n",
        "df_from_array"
      ],
      "metadata": {
        "colab": {
          "base_uri": "https://localhost:8080/",
          "height": 143
        },
        "id": "O0HICmrdWIJv",
        "outputId": "eac018d0-08e2-4e7b-ddfa-10818393c144"
      },
      "execution_count": null,
      "outputs": [
        {
          "output_type": "execute_result",
          "data": {
            "text/plain": [
              "    X   Y   Z\n",
              "0  10  20  30\n",
              "1  40  50  60\n",
              "2  70  80  90"
            ],
            "text/html": [
              "\n",
              "  <div id=\"df-25f35daa-1837-4b1c-9fed-c863b622bb72\" class=\"colab-df-container\">\n",
              "    <div>\n",
              "<style scoped>\n",
              "    .dataframe tbody tr th:only-of-type {\n",
              "        vertical-align: middle;\n",
              "    }\n",
              "\n",
              "    .dataframe tbody tr th {\n",
              "        vertical-align: top;\n",
              "    }\n",
              "\n",
              "    .dataframe thead th {\n",
              "        text-align: right;\n",
              "    }\n",
              "</style>\n",
              "<table border=\"1\" class=\"dataframe\">\n",
              "  <thead>\n",
              "    <tr style=\"text-align: right;\">\n",
              "      <th></th>\n",
              "      <th>X</th>\n",
              "      <th>Y</th>\n",
              "      <th>Z</th>\n",
              "    </tr>\n",
              "  </thead>\n",
              "  <tbody>\n",
              "    <tr>\n",
              "      <th>0</th>\n",
              "      <td>10</td>\n",
              "      <td>20</td>\n",
              "      <td>30</td>\n",
              "    </tr>\n",
              "    <tr>\n",
              "      <th>1</th>\n",
              "      <td>40</td>\n",
              "      <td>50</td>\n",
              "      <td>60</td>\n",
              "    </tr>\n",
              "    <tr>\n",
              "      <th>2</th>\n",
              "      <td>70</td>\n",
              "      <td>80</td>\n",
              "      <td>90</td>\n",
              "    </tr>\n",
              "  </tbody>\n",
              "</table>\n",
              "</div>\n",
              "    <div class=\"colab-df-buttons\">\n",
              "\n",
              "  <div class=\"colab-df-container\">\n",
              "    <button class=\"colab-df-convert\" onclick=\"convertToInteractive('df-25f35daa-1837-4b1c-9fed-c863b622bb72')\"\n",
              "            title=\"Convert this dataframe to an interactive table.\"\n",
              "            style=\"display:none;\">\n",
              "\n",
              "  <svg xmlns=\"http://www.w3.org/2000/svg\" height=\"24px\" viewBox=\"0 -960 960 960\">\n",
              "    <path d=\"M120-120v-720h720v720H120Zm60-500h600v-160H180v160Zm220 220h160v-160H400v160Zm0 220h160v-160H400v160ZM180-400h160v-160H180v160Zm440 0h160v-160H620v160ZM180-180h160v-160H180v160Zm440 0h160v-160H620v160Z\"/>\n",
              "  </svg>\n",
              "    </button>\n",
              "\n",
              "  <style>\n",
              "    .colab-df-container {\n",
              "      display:flex;\n",
              "      gap: 12px;\n",
              "    }\n",
              "\n",
              "    .colab-df-convert {\n",
              "      background-color: #E8F0FE;\n",
              "      border: none;\n",
              "      border-radius: 50%;\n",
              "      cursor: pointer;\n",
              "      display: none;\n",
              "      fill: #1967D2;\n",
              "      height: 32px;\n",
              "      padding: 0 0 0 0;\n",
              "      width: 32px;\n",
              "    }\n",
              "\n",
              "    .colab-df-convert:hover {\n",
              "      background-color: #E2EBFA;\n",
              "      box-shadow: 0px 1px 2px rgba(60, 64, 67, 0.3), 0px 1px 3px 1px rgba(60, 64, 67, 0.15);\n",
              "      fill: #174EA6;\n",
              "    }\n",
              "\n",
              "    .colab-df-buttons div {\n",
              "      margin-bottom: 4px;\n",
              "    }\n",
              "\n",
              "    [theme=dark] .colab-df-convert {\n",
              "      background-color: #3B4455;\n",
              "      fill: #D2E3FC;\n",
              "    }\n",
              "\n",
              "    [theme=dark] .colab-df-convert:hover {\n",
              "      background-color: #434B5C;\n",
              "      box-shadow: 0px 1px 3px 1px rgba(0, 0, 0, 0.15);\n",
              "      filter: drop-shadow(0px 1px 2px rgba(0, 0, 0, 0.3));\n",
              "      fill: #FFFFFF;\n",
              "    }\n",
              "  </style>\n",
              "\n",
              "    <script>\n",
              "      const buttonEl =\n",
              "        document.querySelector('#df-25f35daa-1837-4b1c-9fed-c863b622bb72 button.colab-df-convert');\n",
              "      buttonEl.style.display =\n",
              "        google.colab.kernel.accessAllowed ? 'block' : 'none';\n",
              "\n",
              "      async function convertToInteractive(key) {\n",
              "        const element = document.querySelector('#df-25f35daa-1837-4b1c-9fed-c863b622bb72');\n",
              "        const dataTable =\n",
              "          await google.colab.kernel.invokeFunction('convertToInteractive',\n",
              "                                                    [key], {});\n",
              "        if (!dataTable) return;\n",
              "\n",
              "        const docLinkHtml = 'Like what you see? Visit the ' +\n",
              "          '<a target=\"_blank\" href=https://colab.research.google.com/notebooks/data_table.ipynb>data table notebook</a>'\n",
              "          + ' to learn more about interactive tables.';\n",
              "        element.innerHTML = '';\n",
              "        dataTable['output_type'] = 'display_data';\n",
              "        await google.colab.output.renderOutput(dataTable, element);\n",
              "        const docLink = document.createElement('div');\n",
              "        docLink.innerHTML = docLinkHtml;\n",
              "        element.appendChild(docLink);\n",
              "      }\n",
              "    </script>\n",
              "  </div>\n",
              "\n",
              "\n",
              "<div id=\"df-5008a8a4-89f8-4f50-bedc-2d22c16fabe3\">\n",
              "  <button class=\"colab-df-quickchart\" onclick=\"quickchart('df-5008a8a4-89f8-4f50-bedc-2d22c16fabe3')\"\n",
              "            title=\"Suggest charts\"\n",
              "            style=\"display:none;\">\n",
              "\n",
              "<svg xmlns=\"http://www.w3.org/2000/svg\" height=\"24px\"viewBox=\"0 0 24 24\"\n",
              "     width=\"24px\">\n",
              "    <g>\n",
              "        <path d=\"M19 3H5c-1.1 0-2 .9-2 2v14c0 1.1.9 2 2 2h14c1.1 0 2-.9 2-2V5c0-1.1-.9-2-2-2zM9 17H7v-7h2v7zm4 0h-2V7h2v10zm4 0h-2v-4h2v4z\"/>\n",
              "    </g>\n",
              "</svg>\n",
              "  </button>\n",
              "\n",
              "<style>\n",
              "  .colab-df-quickchart {\n",
              "      --bg-color: #E8F0FE;\n",
              "      --fill-color: #1967D2;\n",
              "      --hover-bg-color: #E2EBFA;\n",
              "      --hover-fill-color: #174EA6;\n",
              "      --disabled-fill-color: #AAA;\n",
              "      --disabled-bg-color: #DDD;\n",
              "  }\n",
              "\n",
              "  [theme=dark] .colab-df-quickchart {\n",
              "      --bg-color: #3B4455;\n",
              "      --fill-color: #D2E3FC;\n",
              "      --hover-bg-color: #434B5C;\n",
              "      --hover-fill-color: #FFFFFF;\n",
              "      --disabled-bg-color: #3B4455;\n",
              "      --disabled-fill-color: #666;\n",
              "  }\n",
              "\n",
              "  .colab-df-quickchart {\n",
              "    background-color: var(--bg-color);\n",
              "    border: none;\n",
              "    border-radius: 50%;\n",
              "    cursor: pointer;\n",
              "    display: none;\n",
              "    fill: var(--fill-color);\n",
              "    height: 32px;\n",
              "    padding: 0;\n",
              "    width: 32px;\n",
              "  }\n",
              "\n",
              "  .colab-df-quickchart:hover {\n",
              "    background-color: var(--hover-bg-color);\n",
              "    box-shadow: 0 1px 2px rgba(60, 64, 67, 0.3), 0 1px 3px 1px rgba(60, 64, 67, 0.15);\n",
              "    fill: var(--button-hover-fill-color);\n",
              "  }\n",
              "\n",
              "  .colab-df-quickchart-complete:disabled,\n",
              "  .colab-df-quickchart-complete:disabled:hover {\n",
              "    background-color: var(--disabled-bg-color);\n",
              "    fill: var(--disabled-fill-color);\n",
              "    box-shadow: none;\n",
              "  }\n",
              "\n",
              "  .colab-df-spinner {\n",
              "    border: 2px solid var(--fill-color);\n",
              "    border-color: transparent;\n",
              "    border-bottom-color: var(--fill-color);\n",
              "    animation:\n",
              "      spin 1s steps(1) infinite;\n",
              "  }\n",
              "\n",
              "  @keyframes spin {\n",
              "    0% {\n",
              "      border-color: transparent;\n",
              "      border-bottom-color: var(--fill-color);\n",
              "      border-left-color: var(--fill-color);\n",
              "    }\n",
              "    20% {\n",
              "      border-color: transparent;\n",
              "      border-left-color: var(--fill-color);\n",
              "      border-top-color: var(--fill-color);\n",
              "    }\n",
              "    30% {\n",
              "      border-color: transparent;\n",
              "      border-left-color: var(--fill-color);\n",
              "      border-top-color: var(--fill-color);\n",
              "      border-right-color: var(--fill-color);\n",
              "    }\n",
              "    40% {\n",
              "      border-color: transparent;\n",
              "      border-right-color: var(--fill-color);\n",
              "      border-top-color: var(--fill-color);\n",
              "    }\n",
              "    60% {\n",
              "      border-color: transparent;\n",
              "      border-right-color: var(--fill-color);\n",
              "    }\n",
              "    80% {\n",
              "      border-color: transparent;\n",
              "      border-right-color: var(--fill-color);\n",
              "      border-bottom-color: var(--fill-color);\n",
              "    }\n",
              "    90% {\n",
              "      border-color: transparent;\n",
              "      border-bottom-color: var(--fill-color);\n",
              "    }\n",
              "  }\n",
              "</style>\n",
              "\n",
              "  <script>\n",
              "    async function quickchart(key) {\n",
              "      const quickchartButtonEl =\n",
              "        document.querySelector('#' + key + ' button');\n",
              "      quickchartButtonEl.disabled = true;  // To prevent multiple clicks.\n",
              "      quickchartButtonEl.classList.add('colab-df-spinner');\n",
              "      try {\n",
              "        const charts = await google.colab.kernel.invokeFunction(\n",
              "            'suggestCharts', [key], {});\n",
              "      } catch (error) {\n",
              "        console.error('Error during call to suggestCharts:', error);\n",
              "      }\n",
              "      quickchartButtonEl.classList.remove('colab-df-spinner');\n",
              "      quickchartButtonEl.classList.add('colab-df-quickchart-complete');\n",
              "    }\n",
              "    (() => {\n",
              "      let quickchartButtonEl =\n",
              "        document.querySelector('#df-5008a8a4-89f8-4f50-bedc-2d22c16fabe3 button');\n",
              "      quickchartButtonEl.style.display =\n",
              "        google.colab.kernel.accessAllowed ? 'block' : 'none';\n",
              "    })();\n",
              "  </script>\n",
              "</div>\n",
              "\n",
              "  <div id=\"id_9bce3605-58d3-47a0-87e5-cea7ac57f3be\">\n",
              "    <style>\n",
              "      .colab-df-generate {\n",
              "        background-color: #E8F0FE;\n",
              "        border: none;\n",
              "        border-radius: 50%;\n",
              "        cursor: pointer;\n",
              "        display: none;\n",
              "        fill: #1967D2;\n",
              "        height: 32px;\n",
              "        padding: 0 0 0 0;\n",
              "        width: 32px;\n",
              "      }\n",
              "\n",
              "      .colab-df-generate:hover {\n",
              "        background-color: #E2EBFA;\n",
              "        box-shadow: 0px 1px 2px rgba(60, 64, 67, 0.3), 0px 1px 3px 1px rgba(60, 64, 67, 0.15);\n",
              "        fill: #174EA6;\n",
              "      }\n",
              "\n",
              "      [theme=dark] .colab-df-generate {\n",
              "        background-color: #3B4455;\n",
              "        fill: #D2E3FC;\n",
              "      }\n",
              "\n",
              "      [theme=dark] .colab-df-generate:hover {\n",
              "        background-color: #434B5C;\n",
              "        box-shadow: 0px 1px 3px 1px rgba(0, 0, 0, 0.15);\n",
              "        filter: drop-shadow(0px 1px 2px rgba(0, 0, 0, 0.3));\n",
              "        fill: #FFFFFF;\n",
              "      }\n",
              "    </style>\n",
              "    <button class=\"colab-df-generate\" onclick=\"generateWithVariable('df_from_array')\"\n",
              "            title=\"Generate code using this dataframe.\"\n",
              "            style=\"display:none;\">\n",
              "\n",
              "  <svg xmlns=\"http://www.w3.org/2000/svg\" height=\"24px\"viewBox=\"0 0 24 24\"\n",
              "       width=\"24px\">\n",
              "    <path d=\"M7,19H8.4L18.45,9,17,7.55,7,17.6ZM5,21V16.75L18.45,3.32a2,2,0,0,1,2.83,0l1.4,1.43a1.91,1.91,0,0,1,.58,1.4,1.91,1.91,0,0,1-.58,1.4L9.25,21ZM18.45,9,17,7.55Zm-12,3A5.31,5.31,0,0,0,4.9,8.1,5.31,5.31,0,0,0,1,6.5,5.31,5.31,0,0,0,4.9,4.9,5.31,5.31,0,0,0,6.5,1,5.31,5.31,0,0,0,8.1,4.9,5.31,5.31,0,0,0,12,6.5,5.46,5.46,0,0,0,6.5,12Z\"/>\n",
              "  </svg>\n",
              "    </button>\n",
              "    <script>\n",
              "      (() => {\n",
              "      const buttonEl =\n",
              "        document.querySelector('#id_9bce3605-58d3-47a0-87e5-cea7ac57f3be button.colab-df-generate');\n",
              "      buttonEl.style.display =\n",
              "        google.colab.kernel.accessAllowed ? 'block' : 'none';\n",
              "\n",
              "      buttonEl.onclick = () => {\n",
              "        google.colab.notebook.generateWithVariable('df_from_array');\n",
              "      }\n",
              "      })();\n",
              "    </script>\n",
              "  </div>\n",
              "\n",
              "    </div>\n",
              "  </div>\n"
            ],
            "application/vnd.google.colaboratory.intrinsic+json": {
              "type": "dataframe",
              "variable_name": "df_from_array",
              "summary": "{\n  \"name\": \"df_from_array\",\n  \"rows\": 3,\n  \"fields\": [\n    {\n      \"column\": \"X\",\n      \"properties\": {\n        \"dtype\": \"number\",\n        \"std\": 30,\n        \"min\": 10,\n        \"max\": 70,\n        \"num_unique_values\": 3,\n        \"samples\": [\n          10,\n          40,\n          70\n        ],\n        \"semantic_type\": \"\",\n        \"description\": \"\"\n      }\n    },\n    {\n      \"column\": \"Y\",\n      \"properties\": {\n        \"dtype\": \"number\",\n        \"std\": 30,\n        \"min\": 20,\n        \"max\": 80,\n        \"num_unique_values\": 3,\n        \"samples\": [\n          20,\n          50,\n          80\n        ],\n        \"semantic_type\": \"\",\n        \"description\": \"\"\n      }\n    },\n    {\n      \"column\": \"Z\",\n      \"properties\": {\n        \"dtype\": \"number\",\n        \"std\": 30,\n        \"min\": 30,\n        \"max\": 90,\n        \"num_unique_values\": 3,\n        \"samples\": [\n          30,\n          60,\n          90\n        ],\n        \"semantic_type\": \"\",\n        \"description\": \"\"\n      }\n    }\n  ]\n}"
            }
          },
          "metadata": {},
          "execution_count": 9
        }
      ]
    },
    {
      "cell_type": "code",
      "source": [
        "# Creating an array of evenly spaced values within a range\n",
        "array_arange = np.arange(0, 10, 2)  # Start at 0, end before 10, step size of 2\n",
        "array_arange"
      ],
      "metadata": {
        "colab": {
          "base_uri": "https://localhost:8080/"
        },
        "id": "guTB37COWJbP",
        "outputId": "d140fe6c-f623-41c4-c87a-05be4e6919db"
      },
      "execution_count": null,
      "outputs": [
        {
          "output_type": "execute_result",
          "data": {
            "text/plain": [
              "array([0, 2, 4, 6, 8])"
            ]
          },
          "metadata": {},
          "execution_count": 10
        }
      ]
    },
    {
      "cell_type": "code",
      "source": [
        "np.arange(20,41, 2)"
      ],
      "metadata": {
        "colab": {
          "base_uri": "https://localhost:8080/"
        },
        "id": "xtFLIVa1WwRt",
        "outputId": "3bd1503d-a61b-484d-82e0-b08f8d357331"
      },
      "execution_count": null,
      "outputs": [
        {
          "output_type": "execute_result",
          "data": {
            "text/plain": [
              "array([20, 22, 24, 26, 28, 30, 32, 34, 36, 38, 40])"
            ]
          },
          "metadata": {},
          "execution_count": 11
        }
      ]
    },
    {
      "cell_type": "code",
      "source": [
        "np.arange(5,-6,-1)"
      ],
      "metadata": {
        "colab": {
          "base_uri": "https://localhost:8080/"
        },
        "id": "JgiK66siW2XF",
        "outputId": "5f413791-9e15-441b-fb3e-0ec1519a2dca"
      },
      "execution_count": null,
      "outputs": [
        {
          "output_type": "execute_result",
          "data": {
            "text/plain": [
              "array([ 5,  4,  3,  2,  1,  0, -1, -2, -3, -4, -5])"
            ]
          },
          "metadata": {},
          "execution_count": 14
        }
      ]
    },
    {
      "cell_type": "code",
      "source": [
        "# Creating an array filled with zeros\n",
        "zeros_array = np.zeros((2, 3))  # 2 rows, 3 columns\n",
        "print(zeros_array)"
      ],
      "metadata": {
        "colab": {
          "base_uri": "https://localhost:8080/"
        },
        "id": "_kHX55piW6q1",
        "outputId": "76efea95-08f6-49cd-da67-3c2c4e8c293e"
      },
      "execution_count": null,
      "outputs": [
        {
          "output_type": "stream",
          "name": "stdout",
          "text": [
            "[[0. 0. 0.]\n",
            " [0. 0. 0.]]\n"
          ]
        }
      ]
    },
    {
      "cell_type": "code",
      "source": [
        "# Creating an array filled with ones\n",
        "ones_array = np.ones((3, 2))    # 3 rows, 2 columns\n",
        "ones_array"
      ],
      "metadata": {
        "colab": {
          "base_uri": "https://localhost:8080/"
        },
        "id": "BzPNtKKyXMs3",
        "outputId": "21f59aa5-871a-491c-b01f-515c6de18baa"
      },
      "execution_count": null,
      "outputs": [
        {
          "output_type": "execute_result",
          "data": {
            "text/plain": [
              "array([[1., 1.],\n",
              "       [1., 1.],\n",
              "       [1., 1.]])"
            ]
          },
          "metadata": {},
          "execution_count": 16
        }
      ]
    },
    {
      "cell_type": "code",
      "source": [
        "np.zeros((3,4))"
      ],
      "metadata": {
        "colab": {
          "base_uri": "https://localhost:8080/"
        },
        "id": "GGByfQeGXOsv",
        "outputId": "49601e9f-dc68-489c-8277-52237424da0b"
      },
      "execution_count": null,
      "outputs": [
        {
          "output_type": "execute_result",
          "data": {
            "text/plain": [
              "array([[0., 0., 0., 0.],\n",
              "       [0., 0., 0., 0.],\n",
              "       [0., 0., 0., 0.]])"
            ]
          },
          "metadata": {},
          "execution_count": 17
        }
      ]
    },
    {
      "cell_type": "code",
      "source": [
        "identity_matrix = np.zeros((5,5))\n",
        "identity_matrix[np.arange(5), np.arange(5)] = 1\n",
        "identity_matrix"
      ],
      "metadata": {
        "colab": {
          "base_uri": "https://localhost:8080/"
        },
        "id": "3emoMBLyXjvp",
        "outputId": "dae3dc6f-60af-4fbf-e20c-c55b4b76c565"
      },
      "execution_count": null,
      "outputs": [
        {
          "output_type": "execute_result",
          "data": {
            "text/plain": [
              "array([[1., 1., 1., 1., 1.],\n",
              "       [1., 1., 1., 1., 1.],\n",
              "       [1., 1., 1., 1., 1.],\n",
              "       [1., 1., 1., 1., 1.],\n",
              "       [1., 1., 1., 1., 1.]])"
            ]
          },
          "metadata": {},
          "execution_count": 19
        }
      ]
    },
    {
      "cell_type": "code",
      "source": [
        "# Creating an array with evenly spaced numbers between 0 and 1\n",
        "linspace_array = np.linspace(0, 1, 5)  # Start at 0, end at 1, 5 evenly spaced points\n",
        "linspace_array"
      ],
      "metadata": {
        "colab": {
          "base_uri": "https://localhost:8080/"
        },
        "id": "LxBse8t1XuW6",
        "outputId": "d597bfe8-f1a4-44b9-be53-8be1ebe0fdc9"
      },
      "execution_count": null,
      "outputs": [
        {
          "output_type": "execute_result",
          "data": {
            "text/plain": [
              "array([0.  , 0.25, 0.5 , 0.75, 1.  ])"
            ]
          },
          "metadata": {},
          "execution_count": 21
        }
      ]
    },
    {
      "cell_type": "code",
      "source": [
        "np.linspace(5,-5,10)"
      ],
      "metadata": {
        "colab": {
          "base_uri": "https://localhost:8080/"
        },
        "id": "2l-Yz5bMYDT0",
        "outputId": "0089e5c4-1061-4293-bed7-adbf534e8c72"
      },
      "execution_count": null,
      "outputs": [
        {
          "output_type": "execute_result",
          "data": {
            "text/plain": [
              "array([ 5.        ,  3.88888889,  2.77777778,  1.66666667,  0.55555556,\n",
              "       -0.55555556, -1.66666667, -2.77777778, -3.88888889, -5.        ])"
            ]
          },
          "metadata": {},
          "execution_count": 22
        }
      ]
    },
    {
      "cell_type": "code",
      "source": [
        "num = np.linspace(100,200,50)\n",
        "num"
      ],
      "metadata": {
        "colab": {
          "base_uri": "https://localhost:8080/"
        },
        "id": "KUDoG9YUaNFG",
        "outputId": "88d57876-741e-4fe9-ccf1-7c142a9cda17"
      },
      "execution_count": null,
      "outputs": [
        {
          "output_type": "execute_result",
          "data": {
            "text/plain": [
              "array([100.        , 102.04081633, 104.08163265, 106.12244898,\n",
              "       108.16326531, 110.20408163, 112.24489796, 114.28571429,\n",
              "       116.32653061, 118.36734694, 120.40816327, 122.44897959,\n",
              "       124.48979592, 126.53061224, 128.57142857, 130.6122449 ,\n",
              "       132.65306122, 134.69387755, 136.73469388, 138.7755102 ,\n",
              "       140.81632653, 142.85714286, 144.89795918, 146.93877551,\n",
              "       148.97959184, 151.02040816, 153.06122449, 155.10204082,\n",
              "       157.14285714, 159.18367347, 161.2244898 , 163.26530612,\n",
              "       165.30612245, 167.34693878, 169.3877551 , 171.42857143,\n",
              "       173.46938776, 175.51020408, 177.55102041, 179.59183673,\n",
              "       181.63265306, 183.67346939, 185.71428571, 187.75510204,\n",
              "       189.79591837, 191.83673469, 193.87755102, 195.91836735,\n",
              "       197.95918367, 200.        ])"
            ]
          },
          "metadata": {},
          "execution_count": 29
        }
      ]
    },
    {
      "cell_type": "code",
      "source": [
        "spacing = num[1] - num[0]\n",
        "spacing"
      ],
      "metadata": {
        "colab": {
          "base_uri": "https://localhost:8080/"
        },
        "id": "O0bi1SsBaWp0",
        "outputId": "a002d025-6de8-43f9-8ae5-1f972500a300"
      },
      "execution_count": null,
      "outputs": [
        {
          "output_type": "execute_result",
          "data": {
            "text/plain": [
              "2.040816326530617"
            ]
          },
          "metadata": {},
          "execution_count": 30
        }
      ]
    },
    {
      "cell_type": "code",
      "source": [
        "# Creating a structured array with different data types\n",
        "structured_array = np.array([(1, 'Alice', 4.5), (2, 'Bob', 3.8)],\n",
        "                            dtype=[('ID', 'i4'), ('Name', 'U10'), ('Score', 'f4')])\n",
        "structured_array"
      ],
      "metadata": {
        "colab": {
          "base_uri": "https://localhost:8080/"
        },
        "id": "xHqDRFQ3ateR",
        "outputId": "7dfb195c-b425-4f08-d1c2-d2edcc737f4b"
      },
      "execution_count": null,
      "outputs": [
        {
          "output_type": "execute_result",
          "data": {
            "text/plain": [
              "array([(1, 'Alice', 4.5), (2, 'Bob', 3.8)],\n",
              "      dtype=[('ID', '<i4'), ('Name', '<U10'), ('Score', '<f4')])"
            ]
          },
          "metadata": {},
          "execution_count": 31
        }
      ]
    },
    {
      "cell_type": "code",
      "source": [
        "pd.DataFrame(structured_array)"
      ],
      "metadata": {
        "colab": {
          "base_uri": "https://localhost:8080/",
          "height": 112
        },
        "id": "xdx_YSyka9xd",
        "outputId": "04814ba8-3ec2-4019-f5b2-f2c173913232"
      },
      "execution_count": null,
      "outputs": [
        {
          "output_type": "execute_result",
          "data": {
            "text/plain": [
              "   ID   Name  Score\n",
              "0   1  Alice    4.5\n",
              "1   2    Bob    3.8"
            ],
            "text/html": [
              "\n",
              "  <div id=\"df-74f39057-d66d-41ff-9a43-4130305715fc\" class=\"colab-df-container\">\n",
              "    <div>\n",
              "<style scoped>\n",
              "    .dataframe tbody tr th:only-of-type {\n",
              "        vertical-align: middle;\n",
              "    }\n",
              "\n",
              "    .dataframe tbody tr th {\n",
              "        vertical-align: top;\n",
              "    }\n",
              "\n",
              "    .dataframe thead th {\n",
              "        text-align: right;\n",
              "    }\n",
              "</style>\n",
              "<table border=\"1\" class=\"dataframe\">\n",
              "  <thead>\n",
              "    <tr style=\"text-align: right;\">\n",
              "      <th></th>\n",
              "      <th>ID</th>\n",
              "      <th>Name</th>\n",
              "      <th>Score</th>\n",
              "    </tr>\n",
              "  </thead>\n",
              "  <tbody>\n",
              "    <tr>\n",
              "      <th>0</th>\n",
              "      <td>1</td>\n",
              "      <td>Alice</td>\n",
              "      <td>4.5</td>\n",
              "    </tr>\n",
              "    <tr>\n",
              "      <th>1</th>\n",
              "      <td>2</td>\n",
              "      <td>Bob</td>\n",
              "      <td>3.8</td>\n",
              "    </tr>\n",
              "  </tbody>\n",
              "</table>\n",
              "</div>\n",
              "    <div class=\"colab-df-buttons\">\n",
              "\n",
              "  <div class=\"colab-df-container\">\n",
              "    <button class=\"colab-df-convert\" onclick=\"convertToInteractive('df-74f39057-d66d-41ff-9a43-4130305715fc')\"\n",
              "            title=\"Convert this dataframe to an interactive table.\"\n",
              "            style=\"display:none;\">\n",
              "\n",
              "  <svg xmlns=\"http://www.w3.org/2000/svg\" height=\"24px\" viewBox=\"0 -960 960 960\">\n",
              "    <path d=\"M120-120v-720h720v720H120Zm60-500h600v-160H180v160Zm220 220h160v-160H400v160Zm0 220h160v-160H400v160ZM180-400h160v-160H180v160Zm440 0h160v-160H620v160ZM180-180h160v-160H180v160Zm440 0h160v-160H620v160Z\"/>\n",
              "  </svg>\n",
              "    </button>\n",
              "\n",
              "  <style>\n",
              "    .colab-df-container {\n",
              "      display:flex;\n",
              "      gap: 12px;\n",
              "    }\n",
              "\n",
              "    .colab-df-convert {\n",
              "      background-color: #E8F0FE;\n",
              "      border: none;\n",
              "      border-radius: 50%;\n",
              "      cursor: pointer;\n",
              "      display: none;\n",
              "      fill: #1967D2;\n",
              "      height: 32px;\n",
              "      padding: 0 0 0 0;\n",
              "      width: 32px;\n",
              "    }\n",
              "\n",
              "    .colab-df-convert:hover {\n",
              "      background-color: #E2EBFA;\n",
              "      box-shadow: 0px 1px 2px rgba(60, 64, 67, 0.3), 0px 1px 3px 1px rgba(60, 64, 67, 0.15);\n",
              "      fill: #174EA6;\n",
              "    }\n",
              "\n",
              "    .colab-df-buttons div {\n",
              "      margin-bottom: 4px;\n",
              "    }\n",
              "\n",
              "    [theme=dark] .colab-df-convert {\n",
              "      background-color: #3B4455;\n",
              "      fill: #D2E3FC;\n",
              "    }\n",
              "\n",
              "    [theme=dark] .colab-df-convert:hover {\n",
              "      background-color: #434B5C;\n",
              "      box-shadow: 0px 1px 3px 1px rgba(0, 0, 0, 0.15);\n",
              "      filter: drop-shadow(0px 1px 2px rgba(0, 0, 0, 0.3));\n",
              "      fill: #FFFFFF;\n",
              "    }\n",
              "  </style>\n",
              "\n",
              "    <script>\n",
              "      const buttonEl =\n",
              "        document.querySelector('#df-74f39057-d66d-41ff-9a43-4130305715fc button.colab-df-convert');\n",
              "      buttonEl.style.display =\n",
              "        google.colab.kernel.accessAllowed ? 'block' : 'none';\n",
              "\n",
              "      async function convertToInteractive(key) {\n",
              "        const element = document.querySelector('#df-74f39057-d66d-41ff-9a43-4130305715fc');\n",
              "        const dataTable =\n",
              "          await google.colab.kernel.invokeFunction('convertToInteractive',\n",
              "                                                    [key], {});\n",
              "        if (!dataTable) return;\n",
              "\n",
              "        const docLinkHtml = 'Like what you see? Visit the ' +\n",
              "          '<a target=\"_blank\" href=https://colab.research.google.com/notebooks/data_table.ipynb>data table notebook</a>'\n",
              "          + ' to learn more about interactive tables.';\n",
              "        element.innerHTML = '';\n",
              "        dataTable['output_type'] = 'display_data';\n",
              "        await google.colab.output.renderOutput(dataTable, element);\n",
              "        const docLink = document.createElement('div');\n",
              "        docLink.innerHTML = docLinkHtml;\n",
              "        element.appendChild(docLink);\n",
              "      }\n",
              "    </script>\n",
              "  </div>\n",
              "\n",
              "\n",
              "<div id=\"df-b485fda2-a06f-4e59-b169-1c1e11805d60\">\n",
              "  <button class=\"colab-df-quickchart\" onclick=\"quickchart('df-b485fda2-a06f-4e59-b169-1c1e11805d60')\"\n",
              "            title=\"Suggest charts\"\n",
              "            style=\"display:none;\">\n",
              "\n",
              "<svg xmlns=\"http://www.w3.org/2000/svg\" height=\"24px\"viewBox=\"0 0 24 24\"\n",
              "     width=\"24px\">\n",
              "    <g>\n",
              "        <path d=\"M19 3H5c-1.1 0-2 .9-2 2v14c0 1.1.9 2 2 2h14c1.1 0 2-.9 2-2V5c0-1.1-.9-2-2-2zM9 17H7v-7h2v7zm4 0h-2V7h2v10zm4 0h-2v-4h2v4z\"/>\n",
              "    </g>\n",
              "</svg>\n",
              "  </button>\n",
              "\n",
              "<style>\n",
              "  .colab-df-quickchart {\n",
              "      --bg-color: #E8F0FE;\n",
              "      --fill-color: #1967D2;\n",
              "      --hover-bg-color: #E2EBFA;\n",
              "      --hover-fill-color: #174EA6;\n",
              "      --disabled-fill-color: #AAA;\n",
              "      --disabled-bg-color: #DDD;\n",
              "  }\n",
              "\n",
              "  [theme=dark] .colab-df-quickchart {\n",
              "      --bg-color: #3B4455;\n",
              "      --fill-color: #D2E3FC;\n",
              "      --hover-bg-color: #434B5C;\n",
              "      --hover-fill-color: #FFFFFF;\n",
              "      --disabled-bg-color: #3B4455;\n",
              "      --disabled-fill-color: #666;\n",
              "  }\n",
              "\n",
              "  .colab-df-quickchart {\n",
              "    background-color: var(--bg-color);\n",
              "    border: none;\n",
              "    border-radius: 50%;\n",
              "    cursor: pointer;\n",
              "    display: none;\n",
              "    fill: var(--fill-color);\n",
              "    height: 32px;\n",
              "    padding: 0;\n",
              "    width: 32px;\n",
              "  }\n",
              "\n",
              "  .colab-df-quickchart:hover {\n",
              "    background-color: var(--hover-bg-color);\n",
              "    box-shadow: 0 1px 2px rgba(60, 64, 67, 0.3), 0 1px 3px 1px rgba(60, 64, 67, 0.15);\n",
              "    fill: var(--button-hover-fill-color);\n",
              "  }\n",
              "\n",
              "  .colab-df-quickchart-complete:disabled,\n",
              "  .colab-df-quickchart-complete:disabled:hover {\n",
              "    background-color: var(--disabled-bg-color);\n",
              "    fill: var(--disabled-fill-color);\n",
              "    box-shadow: none;\n",
              "  }\n",
              "\n",
              "  .colab-df-spinner {\n",
              "    border: 2px solid var(--fill-color);\n",
              "    border-color: transparent;\n",
              "    border-bottom-color: var(--fill-color);\n",
              "    animation:\n",
              "      spin 1s steps(1) infinite;\n",
              "  }\n",
              "\n",
              "  @keyframes spin {\n",
              "    0% {\n",
              "      border-color: transparent;\n",
              "      border-bottom-color: var(--fill-color);\n",
              "      border-left-color: var(--fill-color);\n",
              "    }\n",
              "    20% {\n",
              "      border-color: transparent;\n",
              "      border-left-color: var(--fill-color);\n",
              "      border-top-color: var(--fill-color);\n",
              "    }\n",
              "    30% {\n",
              "      border-color: transparent;\n",
              "      border-left-color: var(--fill-color);\n",
              "      border-top-color: var(--fill-color);\n",
              "      border-right-color: var(--fill-color);\n",
              "    }\n",
              "    40% {\n",
              "      border-color: transparent;\n",
              "      border-right-color: var(--fill-color);\n",
              "      border-top-color: var(--fill-color);\n",
              "    }\n",
              "    60% {\n",
              "      border-color: transparent;\n",
              "      border-right-color: var(--fill-color);\n",
              "    }\n",
              "    80% {\n",
              "      border-color: transparent;\n",
              "      border-right-color: var(--fill-color);\n",
              "      border-bottom-color: var(--fill-color);\n",
              "    }\n",
              "    90% {\n",
              "      border-color: transparent;\n",
              "      border-bottom-color: var(--fill-color);\n",
              "    }\n",
              "  }\n",
              "</style>\n",
              "\n",
              "  <script>\n",
              "    async function quickchart(key) {\n",
              "      const quickchartButtonEl =\n",
              "        document.querySelector('#' + key + ' button');\n",
              "      quickchartButtonEl.disabled = true;  // To prevent multiple clicks.\n",
              "      quickchartButtonEl.classList.add('colab-df-spinner');\n",
              "      try {\n",
              "        const charts = await google.colab.kernel.invokeFunction(\n",
              "            'suggestCharts', [key], {});\n",
              "      } catch (error) {\n",
              "        console.error('Error during call to suggestCharts:', error);\n",
              "      }\n",
              "      quickchartButtonEl.classList.remove('colab-df-spinner');\n",
              "      quickchartButtonEl.classList.add('colab-df-quickchart-complete');\n",
              "    }\n",
              "    (() => {\n",
              "      let quickchartButtonEl =\n",
              "        document.querySelector('#df-b485fda2-a06f-4e59-b169-1c1e11805d60 button');\n",
              "      quickchartButtonEl.style.display =\n",
              "        google.colab.kernel.accessAllowed ? 'block' : 'none';\n",
              "    })();\n",
              "  </script>\n",
              "</div>\n",
              "\n",
              "    </div>\n",
              "  </div>\n"
            ],
            "application/vnd.google.colaboratory.intrinsic+json": {
              "type": "dataframe",
              "summary": "{\n  \"name\": \"pd\",\n  \"rows\": 2,\n  \"fields\": [\n    {\n      \"column\": \"ID\",\n      \"properties\": {\n        \"dtype\": \"int32\",\n        \"num_unique_values\": 2,\n        \"samples\": [\n          2,\n          1\n        ],\n        \"semantic_type\": \"\",\n        \"description\": \"\"\n      }\n    },\n    {\n      \"column\": \"Name\",\n      \"properties\": {\n        \"dtype\": \"string\",\n        \"num_unique_values\": 2,\n        \"samples\": [\n          \"Bob\",\n          \"Alice\"\n        ],\n        \"semantic_type\": \"\",\n        \"description\": \"\"\n      }\n    },\n    {\n      \"column\": \"Score\",\n      \"properties\": {\n        \"dtype\": \"float32\",\n        \"num_unique_values\": 2,\n        \"samples\": [\n          3.799999952316284,\n          4.5\n        ],\n        \"semantic_type\": \"\",\n        \"description\": \"\"\n      }\n    }\n  ]\n}"
            }
          },
          "metadata": {},
          "execution_count": 32
        }
      ]
    },
    {
      "cell_type": "markdown",
      "source": [
        "# Array Attributes and Properties"
      ],
      "metadata": {
        "id": "FT4R06mkc0tL"
      }
    },
    {
      "cell_type": "markdown",
      "source": [
        "Strides -\n",
        "\n",
        "  It helps you understand the memory layout of a NumPy array by providing\n",
        "  the number of bytes to move in memory to access elements along different dimensions. This can be useful for performance optimization and debugging memory-related issues.\n",
        "\n",
        "  It changes based on the shape of the array. When you reshape an array, NumPy recalculates the strides to reflect the new interpretation of the memory layout.\n",
        "\n",
        "  NumPy handles strides internally, so most users don’t need to worry about them in everyday operations. NumPy's efficient handling of strides ensures that accessing and manipulating array data is fast.\n",
        "\n",
        "  For everyday use, you typically don’t need to concern yourself with strides. However, understanding them can be valuable for debugging, optimization, or when working with low-level data processing."
      ],
      "metadata": {
        "id": "e9G4zRjnii9M"
      }
    },
    {
      "cell_type": "code",
      "source": [
        "# Creating a NumPy array\n",
        "array = np.array([[1, 2, 3], [4, 5, 6], [7, 8, 9]])"
      ],
      "metadata": {
        "id": "m3qsKeK6dGX3"
      },
      "execution_count": null,
      "outputs": []
    },
    {
      "cell_type": "code",
      "source": [
        "# Accessing ndarray attributes\n",
        "shape = array.shape    # Shape of the array (number of rows, number of columns)\n",
        "dtype = array.dtype    # Data type of elements in the array\n",
        "strides = array.strides  # Number of bytes to step in each dimension when traversing an array\n",
        "ndim = array.ndim      # Number of dimensions of the array\n",
        "\n",
        "print(\"Array:\\n\", array)\n",
        "print(\"\\nShape of the array:\", shape)\n",
        "print(\"Data type of the array elements:\", dtype)\n",
        "print(\"Strides of the array:\", strides)\n",
        "print(\"Number of dimensions:\", ndim)\n"
      ],
      "metadata": {
        "colab": {
          "base_uri": "https://localhost:8080/"
        },
        "id": "vHZt39HjbaKF",
        "outputId": "f112dbed-eb3c-42a3-e56f-4c5093eaf3ca"
      },
      "execution_count": null,
      "outputs": [
        {
          "output_type": "stream",
          "name": "stdout",
          "text": [
            "Array:\n",
            " [[1 2 3]\n",
            " [4 5 6]\n",
            " [7 8 9]]\n",
            "\n",
            "Shape of the array: (3, 3)\n",
            "Data type of the array elements: int64\n",
            "Strides of the array: (24, 8)\n",
            "Number of dimensions: 2\n"
          ]
        }
      ]
    },
    {
      "cell_type": "code",
      "source": [
        "a1 = array.reshape((1,9))\n",
        "a1.strides"
      ],
      "metadata": {
        "colab": {
          "base_uri": "https://localhost:8080/"
        },
        "id": "L6fHcAtIjfuy",
        "outputId": "c0cfcbea-0039-41c6-b604-39760af8ef81"
      },
      "execution_count": null,
      "outputs": [
        {
          "output_type": "execute_result",
          "data": {
            "text/plain": [
              "(72, 8)"
            ]
          },
          "metadata": {},
          "execution_count": 59
        }
      ]
    },
    {
      "cell_type": "code",
      "source": [
        "# Create a large 3D array\n",
        "array = np.random.rand(100, 100, 100)\n",
        "\n",
        "# Access strides\n",
        "strides = array.strides\n",
        "print(strides)\n",
        "\n",
        "# Calculate the offset to access the element at (10, 20, 30)\n",
        "offset = 10 * strides[0] + 20 * strides[1] + 30 * strides[2]\n",
        "print(\"Offset in memory:\", offset)"
      ],
      "metadata": {
        "colab": {
          "base_uri": "https://localhost:8080/"
        },
        "id": "baHvz_eTomLk",
        "outputId": "675b23e9-b5a3-47b6-81b3-0e0274f16850"
      },
      "execution_count": null,
      "outputs": [
        {
          "output_type": "stream",
          "name": "stdout",
          "text": [
            "(80000, 800, 8)\n",
            "Offset in memory: 816240\n"
          ]
        }
      ]
    },
    {
      "cell_type": "markdown",
      "source": [
        "Shallow Copy\n",
        "A shallow copy of a NumPy array creates a new view of the original array. Both the original array and the view share the same data in memory, so changes to the view will affect the original array, and vice versa.\n",
        "\n",
        "Created using: view() method.\n",
        "\n",
        "Deep Copy\n",
        "A deep copy of a NumPy array creates a new array with a new memory allocation. This new array contains a copy of the data from the original array, so modifications to the deep copy do not affect the original array.\n",
        "\n",
        "Created using: copy() method."
      ],
      "metadata": {
        "id": "nPCW6x4ipEm2"
      }
    },
    {
      "cell_type": "code",
      "source": [
        "# Creating a NumPy array\n",
        "original_array = np.array([1, 2, 3, 4, 5])\n",
        "\n",
        "# Creating a shallow copy using view()\n",
        "shallow_copy = original_array.view()\n",
        "\n",
        "# Creating a deep copy using copy()\n",
        "deep_copy = original_array.copy()\n",
        "\n",
        "# Modifying the shallow copy\n",
        "shallow_copy[0] = 100\n",
        "\n",
        "print(\"Original array after modifying shallow copy:\\n\", original_array)\n",
        "print(\"Deep copy after modifying shallow copy:\\n\", deep_copy)"
      ],
      "metadata": {
        "colab": {
          "base_uri": "https://localhost:8080/"
        },
        "id": "7NeczqlzdHUi",
        "outputId": "45a61723-0032-4351-b169-1566c944945e"
      },
      "execution_count": null,
      "outputs": [
        {
          "output_type": "stream",
          "name": "stdout",
          "text": [
            "Original array after modifying shallow copy:\n",
            " [100   2   3   4   5]\n",
            "Deep copy after modifying shallow copy:\n",
            " [1 2 3 4 5]\n"
          ]
        }
      ]
    },
    {
      "cell_type": "code",
      "source": [
        "# Creating a 2D NumPy array\n",
        "array = np.array([[1, 2, 3], [4, 5, 6], [7, 8, 9]])\n",
        "\n",
        "# Summing along different axes\n",
        "sum_axis0 = np.sum(array, axis=0)  # Sum along rows (axis 0)\n",
        "sum_axis1 = np.sum(array, axis=1)  # Sum along columns (axis 1)\n",
        "\n",
        "print(\"Array:\\n\", array)\n",
        "print(\"\\nSum along rows (axis 0):\", sum_axis0)\n",
        "print(\"Sum along columns (axis 1):\", sum_axis1)"
      ],
      "metadata": {
        "colab": {
          "base_uri": "https://localhost:8080/"
        },
        "id": "HMz-xAEVdpIt",
        "outputId": "84ef4aab-cd77-4bc4-f5f4-87c4c04317a4"
      },
      "execution_count": null,
      "outputs": [
        {
          "output_type": "stream",
          "name": "stdout",
          "text": [
            "Array:\n",
            " [[1 2 3]\n",
            " [4 5 6]\n",
            " [7 8 9]]\n",
            "\n",
            "Sum along rows (axis 0): [12 15 18]\n",
            "Sum along columns (axis 1): [ 6 15 24]\n"
          ]
        }
      ]
    },
    {
      "cell_type": "code",
      "source": [
        "a1 = np.arange(25)\n",
        "a1 =a1.reshape((5,5))\n",
        "print(a1.shape)\n",
        "row_mean = a1.mean(axis=0)\n",
        "col_mean = a1.mean(axis=1)\n",
        "print(row_mean)\n",
        "print(col_mean)"
      ],
      "metadata": {
        "colab": {
          "base_uri": "https://localhost:8080/"
        },
        "id": "_mOSIx4TgrWz",
        "outputId": "257a2adc-4b9c-41dc-d207-15c0346eac79"
      },
      "execution_count": null,
      "outputs": [
        {
          "output_type": "stream",
          "name": "stdout",
          "text": [
            "(5, 5)\n",
            "[10. 11. 12. 13. 14.]\n",
            "[ 2.  7. 12. 17. 22.]\n"
          ]
        }
      ]
    },
    {
      "cell_type": "code",
      "source": [
        "array.max(axis = 0)"
      ],
      "metadata": {
        "colab": {
          "base_uri": "https://localhost:8080/"
        },
        "id": "YWRURyULhC3l",
        "outputId": "23dbbd5d-7d99-4846-d385-0e29ef384319"
      },
      "execution_count": null,
      "outputs": [
        {
          "output_type": "execute_result",
          "data": {
            "text/plain": [
              "array([7, 8, 9])"
            ]
          },
          "metadata": {},
          "execution_count": 82
        }
      ]
    },
    {
      "cell_type": "code",
      "source": [
        "array.max(axis = 1)"
      ],
      "metadata": {
        "colab": {
          "base_uri": "https://localhost:8080/"
        },
        "id": "MOs7AKFqqNs7",
        "outputId": "c7a776fe-f57d-4df2-8165-3bf1b370f2ea"
      },
      "execution_count": null,
      "outputs": [
        {
          "output_type": "execute_result",
          "data": {
            "text/plain": [
              "array([3, 6, 9])"
            ]
          },
          "metadata": {},
          "execution_count": 83
        }
      ]
    },
    {
      "cell_type": "markdown",
      "source": [
        "C-contiguous: This is the default memory layout in NumPy. In C-contiguous arrays, the last dimension is stored contiguously in memory. For example, for a 2D array, elements of the same row are stored next to each other in memory.\n",
        "\n",
        "F-contiguous: This layout is inspired by Fortran. In F-contiguous arrays, the first dimension is stored contiguously. For example, for a 2D array, elements of the same column are stored next to each other in memory.\n",
        "\n",
        "C-contiguous: Rows are stored one after the other.\n",
        "\n",
        "F-contiguous: Columns are stored one after the other.\n",
        "\n",
        "Generally, C-contiguous arrays are more common and might perform better in scenarios where row-wise operations are frequent, while F-contiguous arrays could be beneficial for operations that align with column-wise processing.\n",
        "\n",
        "The performance of matrix operations like multiplication can vary depending on whether the arrays are C-contiguous or F-contiguous. This is due to how memory access patterns align with the CPU’s cache system."
      ],
      "metadata": {
        "id": "4RkUFdXTsRor"
      }
    },
    {
      "cell_type": "code",
      "source": [
        "# Creating a C-contiguous array\n",
        "c_contiguous_array = np.ascontiguousarray([[1, 2, 3], [4, 5, 6]])\n",
        "\n",
        "# Creating an F-contiguous array\n",
        "f_contiguous_array = np.asfortranarray([[1, 2, 3], [4, 5, 6]])\n",
        "\n",
        "print(\"Is the array C-contiguous?\", c_contiguous_array.flags['C_CONTIGUOUS'])\n",
        "print(\"Is the array F-contiguous?\", f_contiguous_array.flags['F_CONTIGUOUS'])\n"
      ],
      "metadata": {
        "colab": {
          "base_uri": "https://localhost:8080/"
        },
        "id": "Eu7qLjyAqP-w",
        "outputId": "0a76f52f-59e9-4441-fb4e-65a5b1282265"
      },
      "execution_count": null,
      "outputs": [
        {
          "output_type": "stream",
          "name": "stdout",
          "text": [
            "Is the array C-contiguous? True\n",
            "Is the array F-contiguous? True\n"
          ]
        }
      ]
    },
    {
      "cell_type": "code",
      "source": [
        "import numpy as np\n",
        "import time\n",
        "\n",
        "# Create C-contiguous array (default)\n",
        "c_contiguous_array = np.random.rand(1000, 1000)\n",
        "\n",
        "# Create F-contiguous array\n",
        "f_contiguous_array = np.asfortranarray(c_contiguous_array)\n",
        "\n",
        "# Time the matrix multiplication for C-contiguous array\n",
        "start_time = time.time()\n",
        "result_c = np.dot(c_contiguous_array, c_contiguous_array)\n",
        "end_time = time.time()\n",
        "time_c = end_time - start_time\n",
        "\n",
        "# Time the matrix multiplication for F-contiguous array\n",
        "start_time = time.time()\n",
        "result_f = np.dot(f_contiguous_array, f_contiguous_array)\n",
        "end_time = time.time()\n",
        "time_f = end_time - start_time\n",
        "\n",
        "print(f\"Time for C-contiguous matrix multiplication: {time_c:.5f} seconds\")\n",
        "print(f\"Time for F-contiguous matrix multiplication: {time_f:.5f} seconds\")\n"
      ],
      "metadata": {
        "colab": {
          "base_uri": "https://localhost:8080/"
        },
        "id": "b6XR_SrIqpyD",
        "outputId": "69184f32-431f-4922-ff2f-1556906a292d"
      },
      "execution_count": null,
      "outputs": [
        {
          "output_type": "stream",
          "name": "stdout",
          "text": [
            "Time for C-contiguous matrix multiplication: 0.06178 seconds\n",
            "Time for F-contiguous matrix multiplication: 0.06538 seconds\n"
          ]
        }
      ]
    },
    {
      "cell_type": "markdown",
      "source": [
        "# Array Manipulation"
      ],
      "metadata": {
        "id": "Ld54TNTjw1P7"
      }
    },
    {
      "cell_type": "markdown",
      "source": [
        "To use the concatenate function along axis=1, the arrays must be 2D (or higher-dimensional) arrays. This is because axis=1 refers to the second axis in a 2D array, which corresponds to columns.\n",
        "\n",
        "reshape(1, -1) transforms a 1D array into a 2D array with 1 row and as many columns as necessary to accommodate all elements of the original array.\n",
        "\n",
        "-1: This is a placeholder that tells NumPy to automatically calculate the number of columns based on the size of the original array and the specified number of rows.\n",
        "\n",
        "Concatenate along Axis 0: Arrays must have the same number of columns.\n",
        "\n",
        "Concatenate along Axis 1: Arrays must have the same number of rows.\n"
      ],
      "metadata": {
        "id": "UdWCnHRJ41WU"
      }
    },
    {
      "cell_type": "code",
      "source": [
        "# Creating two 1D arrays\n",
        "array1 = np.array([1, 2, 3])\n",
        "array2 = np.array([4, 5, 6])\n",
        "\n",
        "# Stacking arrays horizontally\n",
        "hstack_array = np.hstack((array1, array2))\n",
        "\n",
        "# Stacking arrays vertically\n",
        "vstack_array = np.vstack((array1, array2))\n",
        "\n",
        "# Concatenating along different axes\n",
        "concatenate_array = np.concatenate((array1.reshape(1, -1), array2.reshape(1, -1)), axis=0)\n",
        "\n",
        "print(\"Horizontal stack:\\n\", hstack_array)\n",
        "print(\"\\nVertical stack:\\n\", vstack_array)\n",
        "print(\"\\nConcatenated along axis 0:\\n\", concatenate_array)"
      ],
      "metadata": {
        "colab": {
          "base_uri": "https://localhost:8080/"
        },
        "id": "2vw7_R82sEgi",
        "outputId": "3a1b5ea7-355b-4ce6-ddf2-504e24fcdab2"
      },
      "execution_count": null,
      "outputs": [
        {
          "output_type": "stream",
          "name": "stdout",
          "text": [
            "Horizontal stack:\n",
            " [1 2 3 4 5 6]\n",
            "\n",
            "Vertical stack:\n",
            " [[1 2 3]\n",
            " [4 5 6]]\n",
            "\n",
            "Concatenated along axis 0:\n",
            " [[1 2 3]\n",
            " [4 5 6]]\n"
          ]
        }
      ]
    },
    {
      "cell_type": "markdown",
      "source": [
        "Both np.ravel and np.flatten will transform an array into a 1D array. Regardless of the original array's shape, these functions will always return a flattened version of the array.\n",
        "\n",
        "Use np.flatten when you need a guaranteed copy of the array.\n",
        "\n",
        "Use np.ravel to potentially save memory by using a view, but be aware that it may create a copy if a view isn’t possible.\n",
        "\n",
        "np.ravel will create a copy of the array instead of returning a view when the array is non-contiguous and cannot be reshaped into a contiguous, flattened form. In such cases, np.ravel needs to ensure that the output is a contiguous, 1D array, which might require creating a new copy if a view cannot be provided."
      ],
      "metadata": {
        "id": "QKYc2IIb6Gpt"
      }
    },
    {
      "cell_type": "code",
      "source": [
        "# Creating a 2D array\n",
        "array = np.array([[1, 2, 3], [4, 5, 6]])\n",
        "\n",
        "# Flattening the array using flatten() (returns a copy)\n",
        "flattened_array = array.flatten()\n",
        "\n",
        "# Flattening the array using ravel() (returns a view)\n",
        "raveled_array = array.ravel()\n",
        "\n",
        "print(\"Original array:\\n\", array)\n",
        "print(\"\\nFlattened array using flatten():\\n\", flattened_array)\n",
        "print(\"\\nFlattened array using ravel():\\n\", raveled_array)"
      ],
      "metadata": {
        "colab": {
          "base_uri": "https://localhost:8080/"
        },
        "id": "VWxqLuUe0naM",
        "outputId": "685e7496-0f1a-481b-d2a4-b310bd4b2f82"
      },
      "execution_count": null,
      "outputs": [
        {
          "output_type": "stream",
          "name": "stdout",
          "text": [
            "Original array:\n",
            " [[1 2 3]\n",
            " [4 5 6]]\n",
            "\n",
            "Flattened array using flatten():\n",
            " [1 2 3 4 5 6]\n",
            "\n",
            "Flattened array using ravel():\n",
            " [1 2 3 4 5 6]\n"
          ]
        }
      ]
    },
    {
      "cell_type": "markdown",
      "source": [
        "Broadcasting in NumPy:\n",
        "\n",
        "Broadcasting allows NumPy to perform operations on arrays of different shapes by automatically adjusting their shapes to make them compatible for element-wise operations. For instance, if two arrays have different shapes, NumPy internally reshapes them by expanding dimensions, making it possible to perform operations between them.\n",
        "\n",
        "How Broadcasting Works:\n",
        "\n",
        "- Compatibility Check: Two dimensions are compatible if they are the same or if one of them is 1. If not, broadcasting fails.\n",
        "\n",
        "- Shape Adjustment: If one array has fewer dimensions, NumPy adds ones to its shape from the left. For example, an array of shape (3, 1) can be broadcast with an array of shape (3, 4) because the second dimension of 1 can be expanded to 4.\n",
        "\n",
        "- Element-wise Operations: After adjusting the shapes, element-wise operations like addition or multiplication are performed.\n",
        "\n",
        "- Failure Scenarios: Broadcasting fails if the dimensions are not compatible, for example, when trying to operate on arrays of shapes (3, 2) and (2, 3). Here, neither dimension is the same, and neither is 1, so broadcasting can't occur.\n",
        "\n",
        "\n",
        "Difference Between Broadcasting and Vectorization:\n",
        "\n",
        " - Vectorization: This involves performing operations on entire arrays without explicit loops, making computations faster. It’s about efficient computation.\n",
        "\n",
        "- Broadcasting: This is about making arrays of different shapes compatible for those operations. It often enables vectorization by aligning array shapes.\n",
        "\n",
        "- In summary, Broadcasting and vectorization are complementary concepts,broadcasting makes element-wise operations between arrays of different shapes possible, while vectorization ensures those operations are performed efficiently."
      ],
      "metadata": {
        "id": "H9hkQ7clm6sm"
      }
    },
    {
      "cell_type": "code",
      "source": [
        "import numpy as np\n",
        "\n",
        "# Example of broadcasting\n",
        "array1 = np.array([[1, 2, 3], [4, 5, 6]])  # Shape (2, 3)\n",
        "array2 = np.array([10, 20, 30])            # Shape (3,)\n",
        "\n",
        "# Broadcasting happens here: array2 is \"stretched\" to match the shape of array1\n",
        "result = array1 + array2\n",
        "\n",
        "print(\"Broadcasting Result:\\n\", result)"
      ],
      "metadata": {
        "colab": {
          "base_uri": "https://localhost:8080/"
        },
        "id": "f_x3mEDr5Olb",
        "outputId": "76c370d2-f76a-4087-d828-e5b2ad8f9772"
      },
      "execution_count": null,
      "outputs": [
        {
          "output_type": "stream",
          "name": "stdout",
          "text": [
            "Broadcasting Result:\n",
            " [[11 22 33]\n",
            " [14 25 36]]\n"
          ]
        }
      ]
    },
    {
      "cell_type": "markdown",
      "source": [
        "Let’s use your example to illustrate:\n",
        "\n",
        "Array 1 Shape: (3, 2)\n",
        "\n",
        "Array 2 Shape: (1, 3)\n",
        "\n",
        "Step-by-Step Check:\n",
        "\n",
        "Start from the rightmost dimension:\n",
        "\n",
        "Array 1: Dimension is 2 (shape (3, **2**))\n",
        "\n",
        "Array 2: Dimension is 3 (shape (1, **3**))\n",
        "\n",
        "Comparison of Rightmost Dimensions:\n",
        "\n",
        "2 (from Array 1) vs. 3 (from Array 2):\n",
        "\n",
        "These dimensions are not equal.\n",
        "\n",
        "Neither of these is 1.\n",
        "\n",
        "So, broadcasting fails here.\n",
        "\n",
        "Broadcasting works when dimensions are either the same or one of them is 1.\n",
        "\n",
        "Broadcasting fails when dimensions are different, and neither is 1."
      ],
      "metadata": {
        "id": "tinVHFLuo5ut"
      }
    },
    {
      "cell_type": "code",
      "source": [
        "import numpy as np\n",
        "\n",
        "# Two arrays with incompatible shapes for broadcasting\n",
        "array1 = np.array([[1, 2], [3, 4], [5, 6]])  # Shape (3, 2)\n",
        "array2 = np.array([[1, 2, 3]])               # Shape (1, 3)\n",
        "\n",
        "# Attempt to broadcast and perform addition (will raise an error)\n",
        "try:\n",
        "    result = array1 + array2\n",
        "except ValueError as e:\n",
        "    print(\"Broadcasting Failed:\", e)"
      ],
      "metadata": {
        "colab": {
          "base_uri": "https://localhost:8080/"
        },
        "id": "1oUjDWrLna67",
        "outputId": "d26c61bd-48b3-4975-95e8-797d66f34089"
      },
      "execution_count": null,
      "outputs": [
        {
          "output_type": "stream",
          "name": "stdout",
          "text": [
            "Broadcasting Failed: operands could not be broadcast together with shapes (3,2) (1,3) \n"
          ]
        }
      ]
    },
    {
      "cell_type": "markdown",
      "source": [
        "# Mathematical and Statistical Operations"
      ],
      "metadata": {
        "id": "gEOyP_zPpwdb"
      }
    },
    {
      "cell_type": "code",
      "source": [
        "import numpy as np\n",
        "from scipy import stats\n",
        "\n",
        "# Creating a NumPy array\n",
        "array = np.array([1, 2, 3, 4, 5, 5, 6])\n",
        "\n",
        "# Calculating mean, median, mode, standard deviation, and sum\n",
        "mean = np.mean(array)\n",
        "median = np.median(array)\n",
        "mode = stats.mode(array)  # Mode requires scipy.stats\n",
        "std_dev = np.std(array)\n",
        "total_sum = np.sum(array)\n",
        "\n",
        "print(\"Mean:\", mean)\n",
        "print(\"Median:\", median)\n",
        "print(\"Mode:\", mode.mode)\n",
        "print(\"Standard Deviation:\", std_dev)\n",
        "print(\"Sum:\", total_sum)"
      ],
      "metadata": {
        "colab": {
          "base_uri": "https://localhost:8080/"
        },
        "id": "tp3uMpJLndR_",
        "outputId": "6cf0830b-afea-4535-8e13-50b8bb9872b3"
      },
      "execution_count": null,
      "outputs": [
        {
          "output_type": "stream",
          "name": "stdout",
          "text": [
            "Mean: 3.7142857142857144\n",
            "Median: 4.0\n",
            "Mode: 5\n",
            "Standard Deviation: 1.6659862556700857\n",
            "Sum: 26\n"
          ]
        }
      ]
    },
    {
      "cell_type": "code",
      "source": [
        "import numpy as np\n",
        "from scipy import stats\n",
        "\n",
        "# Create a 5x5 matrix with random integers\n",
        "matrix = np.random.randint(1, 101, size=(5, 5))\n",
        "\n",
        "# Applying functions on the entire matrix\n",
        "mean_all = np.mean(matrix)\n",
        "median_all = np.median(matrix)\n",
        "mode_all = stats.mode(matrix, axis=None)[0]  # Mode for the entire matrix\n",
        "std_all = np.std(matrix)\n",
        "sum_all = np.sum(matrix)\n",
        "\n",
        "print(\"Mean of all elements:\", mean_all)\n",
        "print(\"Median of all elements:\", median_all)\n",
        "print(\"Mode of all elements:\", mode_all)\n",
        "print(\"Standard deviation of all elements:\", std_all)\n",
        "print(\"Sum of all elements:\", sum_all)\n",
        "\n",
        "# Applying functions row-wise (axis=1)\n",
        "mean_row = np.mean(matrix, axis=1)\n",
        "median_row = np.median(matrix, axis=1)\n",
        "mode_row = stats.mode(matrix, axis=1)[0]\n",
        "std_row = np.std(matrix, axis=1)\n",
        "sum_row = np.sum(matrix, axis=1)\n",
        "\n",
        "print(\"\\nMean for each row:\", mean_row)\n",
        "print(\"Median for each row:\", median_row)\n",
        "print(\"Mode for each row:\", mode_row)\n",
        "print(\"Standard deviation for each row:\", std_row)\n",
        "print(\"Sum for each row:\", sum_row)\n",
        "\n",
        "# Applying functions column-wise (axis=0)\n",
        "mean_col = np.mean(matrix, axis=0)\n",
        "median_col = np.median(matrix, axis=0)\n",
        "mode_col = stats.mode(matrix, axis=0)[0]\n",
        "std_col = np.std(matrix, axis=0)\n",
        "sum_col = np.sum(matrix, axis=0)\n",
        "\n",
        "print(\"\\nMean for each column:\", mean_col)\n",
        "print(\"Median for each column:\", median_col)\n",
        "print(\"Mode for each column:\", mode_col)\n",
        "print(\"Standard deviation for each column:\", std_col)\n",
        "print(\"Sum for each column:\", sum_col)\n",
        "\n"
      ],
      "metadata": {
        "colab": {
          "base_uri": "https://localhost:8080/"
        },
        "id": "KIn6OqZSqc-F",
        "outputId": "06c1e2fc-ce1f-45a6-d5ec-1dcf442726b6"
      },
      "execution_count": null,
      "outputs": [
        {
          "output_type": "stream",
          "name": "stdout",
          "text": [
            "Mean of all elements: 51.92\n",
            "Median of all elements: 46.0\n",
            "Mode of all elements: 46\n",
            "Standard deviation of all elements: 25.258535191099263\n",
            "Sum of all elements: 1298\n",
            "\n",
            "Mean for each row: [55.6 39.  59.4 56.2 49.4]\n",
            "Median for each row: [46. 33. 71. 52. 42.]\n",
            "Mode for each row: [46  2 29 37 32]\n",
            "Standard deviation for each row: [26.57517639 35.11694748 18.76805797 18.8827964  16.75231327]\n",
            "Sum for each row: [278 195 297 281 247]\n",
            "\n",
            "Mean for each column: [50.6 60.8 53.4 31.6 63.2]\n",
            "Median for each column: [52. 55. 69. 33. 67.]\n",
            "Mode for each column: [ 2 46  7 16 34]\n",
            "Standard deviation for each column: [31.49349139 15.76578574 27.55793897  8.95767827 22.06717019]\n",
            "Sum for each column: [253 304 267 158 316]\n"
          ]
        }
      ]
    },
    {
      "cell_type": "code",
      "source": [
        "# Creating a NumPy array\n",
        "array = np.array([1, 2, 3, 4, 5])\n",
        "\n",
        "# Calculating cumulative sum and cumulative product\n",
        "cumulative_sum = np.cumsum(array)\n",
        "cumulative_product = np.cumprod(array)\n",
        "\n",
        "print(\"Original array:\", array)\n",
        "print(\"Cumulative Sum:\", cumulative_sum)\n",
        "print(\"Cumulative Product:\", cumulative_product)"
      ],
      "metadata": {
        "colab": {
          "base_uri": "https://localhost:8080/"
        },
        "id": "YB60qvXgp4Jt",
        "outputId": "e444a369-f342-4505-f696-6265e1ccc2a1"
      },
      "execution_count": null,
      "outputs": [
        {
          "output_type": "stream",
          "name": "stdout",
          "text": [
            "Original array: [1 2 3 4 5]\n",
            "Cumulative Sum: [ 1  3  6 10 15]\n",
            "Cumulative Product: [  1   2   6  24 120]\n"
          ]
        }
      ]
    },
    {
      "cell_type": "code",
      "source": [
        "# Creating a NumPy array\n",
        "array = np.array([10, 20, 30, 40, 50, 60, 70, 80, 90])\n",
        "\n",
        "# Calculating the 25th, 50th, and 75th percentiles\n",
        "percentile_25 = np.percentile(array, 25)\n",
        "percentile_50 = np.percentile(array, 50)\n",
        "percentile_75 = np.percentile(array, 75)\n",
        "\n",
        "print(\"25th Percentile:\", percentile_25)\n",
        "print(\"50th Percentile (Median):\", percentile_50)\n",
        "print(\"75th Percentile:\", percentile_75)"
      ],
      "metadata": {
        "colab": {
          "base_uri": "https://localhost:8080/"
        },
        "id": "B7wHCiZjqPRL",
        "outputId": "06bcce2d-efcd-4979-81d7-7c218acb8869"
      },
      "execution_count": null,
      "outputs": [
        {
          "output_type": "stream",
          "name": "stdout",
          "text": [
            "25th Percentile: 30.0\n",
            "50th Percentile (Median): 50.0\n",
            "75th Percentile: 70.0\n"
          ]
        }
      ]
    },
    {
      "cell_type": "markdown",
      "source": [
        "- Use np.dot for simple dot products or matrix multiplication without broadcasting.\n",
        "\n",
        "- Use np.matmul when you need matrix multiplication with support for broadcasting, especially for higher-dimensional arrays or batches of matrices.\n",
        "\n",
        "- For 1-D arrays, np.matmul and np.dot both compute the dot product.\n",
        "\n",
        "- For 2-D arrays and higher, np.matmul performs matrix multiplication, while np.dot might perform different operations depending on the dimensions and axes specified.\n",
        "\n",
        "- np.dot can handle higher-dimensional arrays by aligning the last axis of the first array with the second-to-last axis of the second array.\n",
        "\n",
        "- np.matmul is generally preferred for matrix multiplication as it is explicitly designed for this purpose and supports broadcasting more consistently"
      ],
      "metadata": {
        "id": "zbSxtl-xtQRl"
      }
    },
    {
      "cell_type": "code",
      "source": [
        "# Creating two 2D NumPy arrays\n",
        "matrix1 = np.array([[1, 2], [3, 4]])\n",
        "matrix2 = np.array([[5, 6], [7, 8]])\n",
        "\n",
        "# Matrix multiplication using np.dot or np.matmul\n",
        "result_dot = np.dot(matrix1, matrix2)\n",
        "result_matmul = np.matmul(matrix1, matrix2)\n",
        "\n",
        "print(\"Matrix 1:\\n\", matrix1)\n",
        "print(\"Matrix 2:\\n\", matrix2)\n",
        "print(\"\\nMatrix Multiplication using np.dot:\\n\", result_dot)\n",
        "print(\"\\nMatrix Multiplication using np.matmul:\\n\", result_matmul)"
      ],
      "metadata": {
        "colab": {
          "base_uri": "https://localhost:8080/"
        },
        "id": "hp28xDhHrvUP",
        "outputId": "6326e226-c30f-435e-8efb-7f42a4fcd8c6"
      },
      "execution_count": null,
      "outputs": [
        {
          "output_type": "stream",
          "name": "stdout",
          "text": [
            "Matrix 1:\n",
            " [[1 2]\n",
            " [3 4]]\n",
            "Matrix 2:\n",
            " [[5 6]\n",
            " [7 8]]\n",
            "\n",
            "Matrix Multiplication using np.dot:\n",
            " [[19 22]\n",
            " [43 50]]\n",
            "\n",
            "Matrix Multiplication using np.matmul:\n",
            " [[19 22]\n",
            " [43 50]]\n"
          ]
        }
      ]
    },
    {
      "cell_type": "code",
      "source": [
        "# Creating a NumPy array\n",
        "array = np.array([1, 2, 3, 4, 5, 6, 7, 8, 9])\n",
        "\n",
        "# Defining the window size\n",
        "window_size = 3\n",
        "\n",
        "# Calculating the moving average using convolution\n",
        " # Apply convolution with 'valid' mode to avoid edge effects\n",
        "moving_average = np.convolve(array, np.ones(window_size)/window_size, mode='valid')\n",
        "\n",
        "print(\"Original array:\", array)\n",
        "print(\"Moving Average (window size = 3):\", moving_average)"
      ],
      "metadata": {
        "colab": {
          "base_uri": "https://localhost:8080/"
        },
        "id": "cj_T3Q8ju5z9",
        "outputId": "b675bf13-32f7-45c9-d70a-c986990f1d62"
      },
      "execution_count": null,
      "outputs": [
        {
          "output_type": "stream",
          "name": "stdout",
          "text": [
            "Original array: [1 2 3 4 5 6 7 8 9]\n",
            "Moving Average (window size = 3): [2. 3. 4. 5. 6. 7. 8.]\n"
          ]
        }
      ]
    },
    {
      "cell_type": "code",
      "source": [
        "import numpy as np\n",
        "\n",
        "def weighted_moving_average(data, weights):\n",
        "    # Convert weights to a NumPy array and normalize\n",
        "    weights = np.array(weights)\n",
        "    weights = weights / np.sum(weights)  # Normalize weights if not already\n",
        "\n",
        "    # Calculate the weighted moving average using convolution\n",
        "    return np.convolve(data, weights, mode='valid')\n",
        "\n",
        "# Example data\n",
        "data = np.array([1, 2, 3, 4, 5, 6, 7, 8, 9, 10])\n",
        "weights = [0.1, 0.2, 0.3, 0.4]\n",
        "\n",
        "# Compute weighted moving average\n",
        "wma = weighted_moving_average(data, weights)\n",
        "print(\"Weighted Moving Average:\", wma)\n"
      ],
      "metadata": {
        "colab": {
          "base_uri": "https://localhost:8080/"
        },
        "id": "8ckk4E-zvIV-",
        "outputId": "a791fe40-c4c4-4165-b683-f15396ae53a1"
      },
      "execution_count": null,
      "outputs": [
        {
          "output_type": "stream",
          "name": "stdout",
          "text": [
            "Weighted Moving Average: [2. 3. 4. 5. 6. 7. 8.]\n"
          ]
        }
      ]
    },
    {
      "cell_type": "code",
      "source": [
        "array = np.array([1, 2, 3, 4, 5, 6, 7, 8, 9])\n",
        "window_size = 2\n",
        "for x in range(0,len(array) - (window_size -1)):\n",
        "    print(sum(array[x:x+window_size])/window_size)"
      ],
      "metadata": {
        "id": "WWbxqlQ3zZE7"
      },
      "execution_count": null,
      "outputs": []
    },
    {
      "cell_type": "code",
      "source": [
        "# Creating a NumPy array\n",
        "array = np.array([10, 20, 30, 40, 50])\n",
        "\n",
        "# Normalizing the array (scaling between 0 and 1)\n",
        "normalized_array = (array - np.min(array)) / (np.max(array) - np.min(array))\n",
        "\n",
        "# Standardizing the array (scaling to mean = 0, std = 1)\n",
        "standardized_array = (array - np.mean(array)) / np.std(array)\n",
        "\n",
        "print(\"Original array:\", array)\n",
        "print(\"Normalized array (0 to 1):\", normalized_array)\n",
        "print(\"Standardized array (mean=0, std=1):\", standardized_array)\n"
      ],
      "metadata": {
        "colab": {
          "base_uri": "https://localhost:8080/"
        },
        "id": "fwVouM54z8Do",
        "outputId": "3ce66ad7-246e-47e0-aeec-5a4ef159ff37"
      },
      "execution_count": null,
      "outputs": [
        {
          "output_type": "stream",
          "name": "stdout",
          "text": [
            "Original array: [10 20 30 40 50]\n",
            "Normalized array (0 to 1): [0.   0.25 0.5  0.75 1.  ]\n",
            "Standardized array (mean=0, std=1): [-1.41421356 -0.70710678  0.          0.70710678  1.41421356]\n"
          ]
        }
      ]
    },
    {
      "cell_type": "markdown",
      "source": [
        "# Advanced Array Operations"
      ],
      "metadata": {
        "id": "ix_zdtw04H-J"
      }
    },
    {
      "cell_type": "markdown",
      "source": [
        "### np.where"
      ],
      "metadata": {
        "id": "bm391YAG7qi2"
      }
    },
    {
      "cell_type": "code",
      "source": [
        "import numpy as np\n",
        "\n",
        "# Creating a NumPy array\n",
        "array = np.array([10, 15, 20, 25, 30])\n",
        "\n",
        "# Using np.where to find elements greater than 20\n",
        "condition = array > 20\n",
        "result = np.where(condition, \"Above 20\", \"20 or below\")\n",
        "\n",
        "print(\"Original Array:\", array)\n",
        "print(\"Conditionally Labeled Array:\", result)"
      ],
      "metadata": {
        "colab": {
          "base_uri": "https://localhost:8080/"
        },
        "id": "6IUD5rzC3W6Y",
        "outputId": "12956ba1-f433-4f49-d696-18b9e1dd11a1"
      },
      "execution_count": null,
      "outputs": [
        {
          "output_type": "stream",
          "name": "stdout",
          "text": [
            "Original Array: [10 15 20 25 30]\n",
            "Conditionally Labeled Array: ['20 or below' '20 or below' '20 or below' 'Above 20' 'Above 20']\n"
          ]
        }
      ]
    },
    {
      "cell_type": "markdown",
      "source": [
        "### Practice Questions"
      ],
      "metadata": {
        "id": "nkIrxNgt7ltH"
      }
    },
    {
      "cell_type": "code",
      "source": [
        "# Given a 1D array of integers, use np.where to replace all negative values with 0.\n",
        "array = np.array([-1, 2, -3, 4, -5])\n",
        "result = np.where(array < 0, 0, array)\n",
        "print(result)"
      ],
      "metadata": {
        "colab": {
          "base_uri": "https://localhost:8080/"
        },
        "id": "uaYSCZv056tt",
        "outputId": "82d99a82-4aff-453e-9dfc-151b6599d113"
      },
      "execution_count": null,
      "outputs": [
        {
          "output_type": "stream",
          "name": "stdout",
          "text": [
            "[0 2 0 4 0]\n"
          ]
        }
      ]
    },
    {
      "cell_type": "code",
      "source": [
        "# Create a 2D array and use np.where to find all elements that are multiples of 3.\n",
        "arr = np.arange(4).reshape((2,2))\n",
        "print(arr)\n",
        "result = np.where(arr % 3 == 0, 'Multiple of 3', 'Not a multiple of 3')\n",
        "print(result)"
      ],
      "metadata": {
        "colab": {
          "base_uri": "https://localhost:8080/"
        },
        "id": "WuPuJVaV4P_r",
        "outputId": "c26bb38d-efc3-4bd3-8e6f-c519a2b3f8de"
      },
      "execution_count": null,
      "outputs": [
        {
          "output_type": "stream",
          "name": "stdout",
          "text": [
            "[[0 1]\n",
            " [2 3]]\n",
            "[['Multiple of 3' 'Not a multiple of 3']\n",
            " ['Not a multiple of 3' 'Multiple of 3']]\n"
          ]
        }
      ]
    },
    {
      "cell_type": "markdown",
      "source": [
        "### Filtering based on condition"
      ],
      "metadata": {
        "id": "Z0ZxkyVA7vmH"
      }
    },
    {
      "cell_type": "code",
      "source": [
        "# Creating a NumPy array\n",
        "array = np.array([5, 12, 17, 24, 29, 34])\n",
        "\n",
        "# Filtering elements greater than 20\n",
        "filtered_array = array[array > 20]\n",
        "\n",
        "print(\"Original Array:\", array)\n",
        "print(\"Filtered Array (elements > 20):\", filtered_array)"
      ],
      "metadata": {
        "colab": {
          "base_uri": "https://localhost:8080/"
        },
        "id": "Jaduv5Ol4RjK",
        "outputId": "1c5b7a25-12ef-4321-9049-e6197136b0ac"
      },
      "execution_count": null,
      "outputs": [
        {
          "output_type": "stream",
          "name": "stdout",
          "text": [
            "Original Array: [ 5 12 17 24 29 34]\n",
            "Filtered Array (elements > 20): [24 29 34]\n"
          ]
        }
      ]
    },
    {
      "cell_type": "markdown",
      "source": [
        "#### Practice Questions"
      ],
      "metadata": {
        "id": "xbzW7VBu70cz"
      }
    },
    {
      "cell_type": "code",
      "source": [
        "# Create a 3x3 matrix and filter out all elements that are even numbers.\n",
        "arr = np.random.randint(1,9,(3,3))\n",
        "print(arr)\n",
        "filtered = arr[arr % 2 == 0]\n",
        "filtered"
      ],
      "metadata": {
        "colab": {
          "base_uri": "https://localhost:8080/"
        },
        "id": "3-FxOc5V72OI",
        "outputId": "af19a72c-1721-4d79-b9ed-598d610b1f94"
      },
      "execution_count": null,
      "outputs": [
        {
          "output_type": "stream",
          "name": "stdout",
          "text": [
            "[[3 4 8]\n",
            " [1 8 1]\n",
            " [5 4 7]]\n"
          ]
        },
        {
          "output_type": "execute_result",
          "data": {
            "text/plain": [
              "array([4, 8, 8, 4])"
            ]
          },
          "metadata": {},
          "execution_count": 77
        }
      ]
    },
    {
      "cell_type": "code",
      "source": [
        "# Given an array of random integers, filter out and display all prime numbers.\n",
        "\n",
        "# Lambda function to check if a number is prime\n",
        "is_prime = lambda n: (n > 1) and all(n % i != 0 for i in range(2, int(n**0.5) + 1))\n",
        "\n",
        "# Generate an array of random integers\n",
        "arr1 = np.random.randint(1, 100, 15)\n",
        "print(\"Original Array:\", arr1)\n",
        "\n",
        "# Filter out prime numbers using the lambda function\n",
        "filtered_arr = np.array([num for num in arr1 if is_prime(num)])\n",
        "print(\"Filtered Array with Prime Numbers:\", filtered_arr)\n"
      ],
      "metadata": {
        "colab": {
          "base_uri": "https://localhost:8080/"
        },
        "id": "L5IuHzIo8WKG",
        "outputId": "caa8fe95-4e8c-4a8f-9132-9ca03651c8e8"
      },
      "execution_count": null,
      "outputs": [
        {
          "output_type": "stream",
          "name": "stdout",
          "text": [
            "Original Array: [23 97 80 81 37  1 39 25  8 80 88 64 42 98 16]\n",
            "Filtered Array with Prime Numbers: [23 97 37]\n"
          ]
        }
      ]
    },
    {
      "cell_type": "markdown",
      "source": [
        "### np.unique"
      ],
      "metadata": {
        "id": "jpM0zG27-ZYG"
      }
    },
    {
      "cell_type": "code",
      "source": [
        "# Creating a NumPy array\n",
        "array = np.array([1, 2, 2, 3, 3, 3, 4, 5, 5])\n",
        "\n",
        "# Finding unique elements and their counts\n",
        "unique_elements, counts = np.unique(array, return_counts=True)\n",
        "\n",
        "print(\"Unique Elements:\", unique_elements)\n",
        "print(\"Counts:\", counts)"
      ],
      "metadata": {
        "colab": {
          "base_uri": "https://localhost:8080/"
        },
        "id": "lzzla0eG5Nxj",
        "outputId": "58834c67-5fe4-4440-bf85-10ca6dbce274"
      },
      "execution_count": null,
      "outputs": [
        {
          "output_type": "stream",
          "name": "stdout",
          "text": [
            "Unique Elements: [1 2 3 4 5]\n",
            "Counts: [1 2 3 1 2]\n"
          ]
        }
      ]
    },
    {
      "cell_type": "code",
      "source": [
        "#Create a 4x4 matrix with random integers between 1 and 10. Find the unique elements and their occurrences.\n",
        "arr1 = np.random.randint(1,10,10)\n",
        "print(arr1)\n",
        "np.unique(arr1, return_counts=True)"
      ],
      "metadata": {
        "colab": {
          "base_uri": "https://localhost:8080/"
        },
        "id": "FFxImVil96a6",
        "outputId": "12d3b4b8-ac8c-4943-e6df-8948222c303b"
      },
      "execution_count": null,
      "outputs": [
        {
          "output_type": "stream",
          "name": "stdout",
          "text": [
            "[3 8 7 5 3 3 8 7 3 9]\n"
          ]
        },
        {
          "output_type": "execute_result",
          "data": {
            "text/plain": [
              "(array([3, 5, 7, 8, 9]), array([4, 1, 2, 2, 1]))"
            ]
          },
          "metadata": {},
          "execution_count": 85
        }
      ]
    },
    {
      "cell_type": "markdown",
      "source": [
        "### np.random"
      ],
      "metadata": {
        "id": "GPPW3ec6-dPK"
      }
    },
    {
      "cell_type": "code",
      "source": [
        "# Generating a 1D array of 5 random integers between 0 and 10\n",
        "random_integers = np.random.randint(0, 10, 5)\n",
        "\n",
        "# Generating a 2D array of random floats between 0 and 1\n",
        "random_floats = np.random.random((3, 3))\n",
        "\n",
        "print(\"Random Integers:\", random_integers)\n",
        "print(\"Random Floats:\\n\", random_floats)"
      ],
      "metadata": {
        "colab": {
          "base_uri": "https://localhost:8080/"
        },
        "id": "KfGl00Su5XVp",
        "outputId": "fda8e938-cbe9-4046-9ff6-eda9f11ecbf3"
      },
      "execution_count": null,
      "outputs": [
        {
          "output_type": "stream",
          "name": "stdout",
          "text": [
            "Random Integers: [7 4 9 7 6]\n",
            "Random Floats:\n",
            " [[0.87511594 0.00526374 0.42042078]\n",
            " [0.72062376 0.52806719 0.82850996]\n",
            " [0.44809072 0.30013622 0.83490044]]\n"
          ]
        }
      ]
    },
    {
      "cell_type": "code",
      "source": [
        "# Use np.random to generate a 3x3 matrix with normally distributed random numbers (mean = 0, std = 1).\n",
        "matrix = np.random.randn(3, 3)\n",
        "print(matrix)"
      ],
      "metadata": {
        "colab": {
          "base_uri": "https://localhost:8080/"
        },
        "id": "u7gEfNJs-z9B",
        "outputId": "6fbcf661-2363-4691-f646-4d526679ee92"
      },
      "execution_count": null,
      "outputs": [
        {
          "output_type": "stream",
          "name": "stdout",
          "text": [
            "[[ 1.7337623   0.5630772  -0.14713228]\n",
            " [ 0.737717    0.01405288 -1.13953655]\n",
            " [ 1.04200925 -0.30293573  1.23249712]]\n"
          ]
        }
      ]
    },
    {
      "cell_type": "code",
      "source": [
        "#Generate 100 random samples from a binomial distribution with n=10 and p=0.5. Calculate the mean of the samples.\n",
        "bino = np.random.binomial(10,0.5,100)\n",
        "print(bino)\n",
        "print(\"Mean - \",np.mean(bino))"
      ],
      "metadata": {
        "colab": {
          "base_uri": "https://localhost:8080/"
        },
        "id": "yMhmZLtm--Yv",
        "outputId": "9645b5dc-1d2c-4fe6-e31f-90a0b69cbe22"
      },
      "execution_count": null,
      "outputs": [
        {
          "output_type": "stream",
          "name": "stdout",
          "text": [
            "[4 7 5 6 6 3 5 6 5 6 6 4 5 7 7 4 6 4 3 3 5 5 5 4 5 8 3 4 7 5 6 5 5 4 6 3 4\n",
            " 8 5 5 4 6 7 7 3 5 3 4 3 6 6 4 5 5 6 4 8 5 6 3 3 4 4 8 4 3 6 5 3 3 6 7 4 7\n",
            " 8 6 4 5 7 2 7 3 8 7 6 4 3 4 3 7 7 4 6 1 7 4 8 5 7 6]\n",
            "Mean -  5.1\n"
          ]
        }
      ]
    },
    {
      "cell_type": "markdown",
      "source": [
        "### np.vectorize"
      ],
      "metadata": {
        "id": "xDv1xv56_fKl"
      }
    },
    {
      "cell_type": "code",
      "source": [
        "# Define a simple function to square a number\n",
        "def square(x):\n",
        "    return x * x\n",
        "\n",
        "# Vectorizing the function\n",
        "vectorized_square = np.vectorize(square)\n",
        "\n",
        "# Creating a NumPy array\n",
        "array = np.array([1, 2, 3, 4])\n",
        "\n",
        "# Applying the vectorized function\n",
        "squared_array = vectorized_square(array)\n",
        "\n",
        "print(\"Original Array:\", array)\n",
        "print(\"Squared Array:\", squared_array)"
      ],
      "metadata": {
        "colab": {
          "base_uri": "https://localhost:8080/"
        },
        "id": "IihpP7Bq5c80",
        "outputId": "bd153d6d-0dfb-4ca0-cf87-26c493a6c491"
      },
      "execution_count": null,
      "outputs": [
        {
          "output_type": "stream",
          "name": "stdout",
          "text": [
            "Original Array: [1 2 3 4]\n",
            "Squared Array: [ 1  4  9 16]\n"
          ]
        }
      ]
    },
    {
      "cell_type": "code",
      "source": [
        "# Creating a NumPy array\n",
        "array = np.array([1, 2, 3, 4, 5])\n",
        "\n",
        "# Using lambda and vectorize to add 5 to each element\n",
        "add_five = np.vectorize(lambda x: x + 5)\n",
        "\n",
        "# Applying the function\n",
        "new_array = add_five(array)\n",
        "\n",
        "print(\"Original Array:\", array)\n",
        "print(\"Array after adding 5:\", new_array)"
      ],
      "metadata": {
        "colab": {
          "base_uri": "https://localhost:8080/"
        },
        "id": "pK_zKV5S5kNc",
        "outputId": "88152a6a-e809-4716-ac61-bc2cb593c76f"
      },
      "execution_count": null,
      "outputs": [
        {
          "output_type": "stream",
          "name": "stdout",
          "text": [
            "Original Array: [1 2 3 4 5]\n",
            "Array after adding 5: [ 6  7  8  9 10]\n"
          ]
        }
      ]
    },
    {
      "cell_type": "code",
      "source": [
        "#Write a lambda function to compute the square root of each element in a 2D array and use np.vectorize to apply it.\n",
        "array = np.array([1, 2, 3, 4, 5])\n",
        "sqrt_vec = np.vectorize(lambda x: np.sqrt(x))\n",
        "sqrt_vec(array)"
      ],
      "metadata": {
        "colab": {
          "base_uri": "https://localhost:8080/"
        },
        "id": "AWCFjCKP5sb1",
        "outputId": "3d775041-3744-495b-e318-6b6f085b5c53"
      },
      "execution_count": null,
      "outputs": [
        {
          "output_type": "execute_result",
          "data": {
            "text/plain": [
              "array([1.        , 1.41421356, 1.73205081, 2.        , 2.23606798])"
            ]
          },
          "metadata": {},
          "execution_count": 93
        }
      ]
    },
    {
      "cell_type": "markdown",
      "source": [
        "### ndarray and array"
      ],
      "metadata": {
        "id": "7i6Pwz8yakAk"
      }
    },
    {
      "cell_type": "markdown",
      "source": [
        "ndarray -\n",
        "\n",
        "- ndarray stands for \"N-dimensional array\" and is the core data structure in NumPy. It represents a multidimensional, homogeneous array of fixed-size items.\n",
        "\n",
        "- You don't usually create ndarray objects directly; instead, you use functions like np.array(), np.zeros(), np.ones(), etc., to create ndarray objects.\n",
        "\n",
        "- ndarray is the actual data structure.\n",
        "\n",
        "\n",
        "Array -\n",
        "\n",
        "- array is a function provided by NumPy used to create ndarray objects. It is not a type itself but a factory function for creating ndarray instances.\n",
        "\n",
        "- np.array() takes a sequence (list, tuple, etc.) or another array-like object and returns an ndarray\n",
        "\n",
        "- Used to convert or create NumPy arrays from existing Python sequences or other array-like objects.\n"
      ],
      "metadata": {
        "id": "o5X0sELgauNE"
      }
    },
    {
      "cell_type": "code",
      "source": [
        "import numpy as np\n",
        "a = np.array([1, 2, 3])\n",
        "print(type(a))  # <class 'numpy.ndarray'>"
      ],
      "metadata": {
        "colab": {
          "base_uri": "https://localhost:8080/"
        },
        "id": "_jxp03kAaodg",
        "outputId": "f2811a15-4f9f-4e5b-d8d3-da80f07ef3b0"
      },
      "execution_count": null,
      "outputs": [
        {
          "output_type": "stream",
          "name": "stdout",
          "text": [
            "<class 'numpy.ndarray'>\n"
          ]
        }
      ]
    },
    {
      "cell_type": "code",
      "source": [
        "import numpy as np\n",
        "list_data = [1, 2, 3]\n",
        "a = np.array(list_data)  # np.array is a function that returns an ndarray\n",
        "print(type(a))  # <class 'numpy.ndarray'>"
      ],
      "metadata": {
        "colab": {
          "base_uri": "https://localhost:8080/"
        },
        "id": "-hYDgsdvbJpR",
        "outputId": "73b81966-369e-46bd-c2b1-6bc370fe3fc3"
      },
      "execution_count": null,
      "outputs": [
        {
          "output_type": "stream",
          "name": "stdout",
          "text": [
            "<class 'numpy.ndarray'>\n"
          ]
        }
      ]
    },
    {
      "cell_type": "markdown",
      "source": [
        "### Numpy Arrays and Matrices"
      ],
      "metadata": {
        "id": "Fhyd7pymbRFA"
      }
    },
    {
      "cell_type": "markdown",
      "source": [
        "Numpy Arrays\n",
        "- A NumPy array, or ndarray, is a general-purpose n-dimensional array object that can handle multi-dimensional data. It is more versatile and can be used for a wide range of mathematical operations.\n",
        "\n",
        "- Supports a wide range of mathematical operations, including element-wise operations, broadcasting, and reduction operations.\n",
        "\n",
        "Numpy Matrices\n",
        "- A NumPy matrix is a specialized 2D array with additional matrix-specific operations. It is a subclass of ndarray and is primarily intended for linear algebra.\n",
        "\n",
        "- Always 2D. If you need to work with multi-dimensional arrays, you should use ndarray.\n",
        "\n",
        "- Created using np.matrix(). However, it's generally recommended to use ndarray with np.dot() or @ for matrix operations in most cases."
      ],
      "metadata": {
        "id": "7TbJP6f1bUU3"
      }
    },
    {
      "cell_type": "code",
      "source": [
        "import numpy as np\n",
        "\n",
        "# 1D Array\n",
        "array1d = np.array([1, 2, 3])\n",
        "\n",
        "# 2D Array (Matrix)\n",
        "array2d = np.array([[1, 2], [3, 4]])\n",
        "\n",
        "# 3D Array\n",
        "array3d = np.array([[[1], [2]], [[3], [4]]])\n",
        "\n",
        "print(array1d)\n",
        "print(array2d)\n",
        "print(array3d)"
      ],
      "metadata": {
        "colab": {
          "base_uri": "https://localhost:8080/"
        },
        "id": "mvmBf_OvbTci",
        "outputId": "0e2bcbdc-aba3-44c9-a28b-0dd97ba02137"
      },
      "execution_count": null,
      "outputs": [
        {
          "output_type": "stream",
          "name": "stdout",
          "text": [
            "[1 2 3]\n",
            "[[1 2]\n",
            " [3 4]]\n",
            "[[[1]\n",
            "  [2]]\n",
            "\n",
            " [[3]\n",
            "  [4]]]\n"
          ]
        }
      ]
    },
    {
      "cell_type": "code",
      "source": [
        "import numpy as np\n",
        "\n",
        "# 2D Matrix\n",
        "matrix = np.matrix([[1, 2], [3, 4]])\n",
        "\n",
        "# Matrix multiplication\n",
        "matrix2 = np.matrix([[2, 0], [0, 2]])\n",
        "product = matrix * matrix2  # Matrix multiplication\n",
        "\n",
        "print(\"matrix1 - \\n\", matrix)\n",
        "print(\"matrix2 - \\n\", matrix2)\n",
        "print(\"product - \\n\",product)"
      ],
      "metadata": {
        "colab": {
          "base_uri": "https://localhost:8080/"
        },
        "id": "4gSvN9e2b_cP",
        "outputId": "3138dc63-051a-4ab3-a178-ed5e8298af83"
      },
      "execution_count": null,
      "outputs": [
        {
          "output_type": "stream",
          "name": "stdout",
          "text": [
            "matrix1 - \n",
            " [[1 2]\n",
            " [3 4]]\n",
            "matrix2 - \n",
            " [[2 0]\n",
            " [0 2]]\n",
            "product - \n",
            " [[2 4]\n",
            " [6 8]]\n"
          ]
        }
      ]
    },
    {
      "cell_type": "markdown",
      "source": [
        "### Universal Functions (Ufunc)"
      ],
      "metadata": {
        "id": "NVSZ6AnEceE7"
      }
    },
    {
      "cell_type": "markdown",
      "source": [
        "#### Arithmetic Operations"
      ],
      "metadata": {
        "id": "Y0e0JGIlkZ-n"
      }
    },
    {
      "cell_type": "code",
      "source": [
        "import numpy as np\n",
        "\n",
        "# Arrays for arithmetic operations\n",
        "a = np.array([1, 2, 3])\n",
        "b = np.array([4, 5, 6])\n",
        "\n",
        "# Addition\n",
        "add_result = np.add(a, b)\n",
        "print(\"Addition:\", add_result)\n",
        "\n",
        "# Subtraction\n",
        "subtract_result = np.subtract(a, b)\n",
        "print(\"Subtraction:\", subtract_result)\n",
        "\n",
        "# Multiplication\n",
        "multiply_result = np.multiply(a, b)\n",
        "print(\"Multiplication:\", multiply_result)\n",
        "\n",
        "# Division\n",
        "divide_result = np.divide(a, b)\n",
        "print(\"Division:\", divide_result)"
      ],
      "metadata": {
        "colab": {
          "base_uri": "https://localhost:8080/"
        },
        "id": "vypfzLsycj3q",
        "outputId": "2338dfa2-ea9f-4691-d12a-86271a2aeb52"
      },
      "execution_count": null,
      "outputs": [
        {
          "output_type": "stream",
          "name": "stdout",
          "text": [
            "Addition: [5 7 9]\n",
            "Subtraction: [-3 -3 -3]\n",
            "Multiplication: [ 4 10 18]\n",
            "Division: [0.25 0.4  0.5 ]\n"
          ]
        }
      ]
    },
    {
      "cell_type": "markdown",
      "source": [
        "#### Trigonometric Functions"
      ],
      "metadata": {
        "id": "W3OAQIT5kf8W"
      }
    },
    {
      "cell_type": "code",
      "source": [
        "# Array for trigonometric functions\n",
        "angles = np.array([0, np.pi/2, np.pi])\n",
        "\n",
        "# Sine\n",
        "sin_result = np.sin(angles)\n",
        "print(\"Sine:\", sin_result)\n",
        "\n",
        "# Cosine\n",
        "cos_result = np.cos(angles)\n",
        "print(\"Cosine:\", cos_result)\n",
        "\n",
        "# Tangent\n",
        "tan_result = np.tan(angles)\n",
        "print(\"Tangent:\", tan_result)"
      ],
      "metadata": {
        "colab": {
          "base_uri": "https://localhost:8080/"
        },
        "id": "ugwL68-bkilC",
        "outputId": "6f9f8e89-0b45-4b69-8cb7-b0d6920da523"
      },
      "execution_count": null,
      "outputs": [
        {
          "output_type": "stream",
          "name": "stdout",
          "text": [
            "Sine: [0.0000000e+00 1.0000000e+00 1.2246468e-16]\n",
            "Cosine: [ 1.000000e+00  6.123234e-17 -1.000000e+00]\n",
            "Tangent: [ 0.00000000e+00  1.63312394e+16 -1.22464680e-16]\n"
          ]
        }
      ]
    },
    {
      "cell_type": "markdown",
      "source": [
        "#### Exponential and Logarithmic Functions"
      ],
      "metadata": {
        "id": "AO4vEnpykoJC"
      }
    },
    {
      "cell_type": "code",
      "source": [
        "# Array for exponential and logarithmic functions\n",
        "x = np.array([1, 2, 3, 4])\n",
        "\n",
        "# Exponential\n",
        "exp_result = np.exp(x)\n",
        "print(\"Exponential:\", exp_result)\n",
        "\n",
        "# Natural Logarithm\n",
        "log_result = np.log(x)\n",
        "print(\"Natural Logarithm:\", log_result)\n",
        "\n",
        "# Base-10 Logarithm\n",
        "log10_result = np.log10(x)\n",
        "print(\"Log Base 10:\", log10_result)"
      ],
      "metadata": {
        "colab": {
          "base_uri": "https://localhost:8080/"
        },
        "id": "CtMBKIvekr9L",
        "outputId": "2d69e356-312e-491a-9970-5a22f0ba0373"
      },
      "execution_count": null,
      "outputs": [
        {
          "output_type": "stream",
          "name": "stdout",
          "text": [
            "Exponential: [ 2.71828183  7.3890561  20.08553692 54.59815003]\n",
            "Natural Logarithm: [0.         0.69314718 1.09861229 1.38629436]\n",
            "Log Base 10: [0.         0.30103    0.47712125 0.60205999]\n"
          ]
        }
      ]
    },
    {
      "cell_type": "markdown",
      "source": [
        "#### Statistical Functions"
      ],
      "metadata": {
        "id": "Q8L_MQxUksRl"
      }
    },
    {
      "cell_type": "code",
      "source": [
        "# Array for statistical functions\n",
        "data = np.array([1, 2, 3, 4, 5, 6, 7, 8, 9])\n",
        "\n",
        "# Mean\n",
        "mean_result = np.mean(data)\n",
        "print(\"Mean:\", mean_result)\n",
        "\n",
        "# Median\n",
        "median_result = np.median(data)\n",
        "print(\"Median:\", median_result)\n",
        "\n",
        "# Standard Deviation\n",
        "std_result = np.std(data)\n",
        "print(\"Standard Deviation:\", std_result)"
      ],
      "metadata": {
        "colab": {
          "base_uri": "https://localhost:8080/"
        },
        "id": "7MM7DxcVku56",
        "outputId": "c008a2f1-9311-47b5-e98c-eeccfab10264"
      },
      "execution_count": null,
      "outputs": [
        {
          "output_type": "stream",
          "name": "stdout",
          "text": [
            "Mean: 5.0\n",
            "Median: 5.0\n",
            "Standard Deviation: 2.581988897471611\n"
          ]
        }
      ]
    },
    {
      "cell_type": "markdown",
      "source": [
        "#### Comparisons and Logical Operations"
      ],
      "metadata": {
        "id": "g4PKX3wEk0RT"
      }
    },
    {
      "cell_type": "code",
      "source": [
        "# Arrays for comparisons\n",
        "x = np.array([1, 2, 3])\n",
        "y = np.array([2, 2, 4])\n",
        "\n",
        "# Equal\n",
        "equal_result = np.equal(x, y)\n",
        "print(\"Equal:\", equal_result)\n",
        "\n",
        "# Less Than\n",
        "less_result = np.less(x, y)\n",
        "print(\"Less Than:\", less_result)\n",
        "\n",
        "# Logical AND\n",
        "logical_and_result = np.logical_and(x > 1, y > 2)\n",
        "print(\"Logical AND:\", logical_and_result)\n"
      ],
      "metadata": {
        "colab": {
          "base_uri": "https://localhost:8080/"
        },
        "id": "KenCcTVOk4E8",
        "outputId": "e00a2df5-f027-4e18-811f-33c2ec10543b"
      },
      "execution_count": null,
      "outputs": [
        {
          "output_type": "stream",
          "name": "stdout",
          "text": [
            "Equal: [False  True False]\n",
            "Less Than: [ True False  True]\n",
            "Logical AND: [False False  True]\n"
          ]
        }
      ]
    },
    {
      "cell_type": "markdown",
      "source": [
        "#### Aggregation Functions"
      ],
      "metadata": {
        "id": "10mEMTwzk6jE"
      }
    },
    {
      "cell_type": "code",
      "source": [
        "# Array for aggregation functions\n",
        "arr = np.array([[1, 2, 3], [4, 5, 6]])\n",
        "\n",
        "# Sum\n",
        "sum_result = np.sum(arr)\n",
        "print(\"Sum:\", sum_result)\n",
        "\n",
        "# Minimum\n",
        "min_result = np.min(arr)\n",
        "print(\"Minimum:\", min_result)\n",
        "\n",
        "# Maximum\n",
        "max_result = np.max(arr)\n",
        "print(\"Maximum:\", max_result)"
      ],
      "metadata": {
        "colab": {
          "base_uri": "https://localhost:8080/"
        },
        "id": "7AG6qRwRk5gE",
        "outputId": "a6dffba5-0785-4d38-e6bd-9f14b15a90d4"
      },
      "execution_count": null,
      "outputs": [
        {
          "output_type": "stream",
          "name": "stdout",
          "text": [
            "Sum: 21\n",
            "Minimum: 1\n",
            "Maximum: 6\n"
          ]
        }
      ]
    },
    {
      "cell_type": "markdown",
      "source": [
        "#### Element-wise Functions"
      ],
      "metadata": {
        "id": "IGvDeyPik_Ll"
      }
    },
    {
      "cell_type": "code",
      "source": [
        "# Array for element-wise functions\n",
        "z = np.array([-1.7, 2.5, 3.6])\n",
        "\n",
        "# Absolute Value\n",
        "abs_result = np.abs(z)\n",
        "print(\"Absolute Value:\", abs_result)\n",
        "\n",
        "# Square Root\n",
        "sqrt_result = np.sqrt(np.array([4, 16, 25]))\n",
        "print(\"Square Root:\", sqrt_result)\n",
        "\n",
        "# Floor\n",
        "floor_result = np.floor(z)\n",
        "print(\"Floor:\", floor_result)\n",
        "\n",
        "# Round\n",
        "round_result = np.round(z)\n",
        "print(\"Round:\", round_result)"
      ],
      "metadata": {
        "colab": {
          "base_uri": "https://localhost:8080/"
        },
        "id": "kMIVDpg1lBrR",
        "outputId": "14ecedbc-f077-4c36-fac8-00769f304fa5"
      },
      "execution_count": null,
      "outputs": [
        {
          "output_type": "stream",
          "name": "stdout",
          "text": [
            "Absolute Value: [1.7 2.5 3.6]\n",
            "Square Root: [2. 4. 5.]\n",
            "Floor: [-2.  2.  3.]\n",
            "Round: [-2.  2.  4.]\n"
          ]
        }
      ]
    },
    {
      "cell_type": "markdown",
      "source": [
        "# Indexing, Slicing, and Masking"
      ],
      "metadata": {
        "id": "bG23tbb_GCES"
      }
    },
    {
      "cell_type": "markdown",
      "source": [
        "### Indexing\n",
        "\n"
      ],
      "metadata": {
        "id": "VQzvh1Cic1DU"
      }
    },
    {
      "cell_type": "markdown",
      "source": [
        "- Indexing refers to accessing specific elements of an array. You use integer indices to directly retrieve or modify individual elements or sub-arrays.\n",
        "\n",
        "- Use square brackets with indices to access elements.\n",
        "\n",
        "- Indexing returns a view or copy of the specified elements.\n",
        "\n"
      ],
      "metadata": {
        "id": "OqnI8ArXc4E5"
      }
    },
    {
      "cell_type": "code",
      "source": [
        "array = np.array([10, 20, 30, 40, 50])\n",
        "print(array[2])  # Output: 30"
      ],
      "metadata": {
        "colab": {
          "base_uri": "https://localhost:8080/"
        },
        "id": "AhdBet6Kc-JO",
        "outputId": "9fa51632-3372-42f2-8447-890db5f644d8"
      },
      "execution_count": null,
      "outputs": [
        {
          "output_type": "stream",
          "name": "stdout",
          "text": [
            "30\n"
          ]
        }
      ]
    },
    {
      "cell_type": "code",
      "source": [
        "array2d = np.array([[1, 2], [3, 4], [5, 6]])\n",
        "print(array2d[1, 0])  # Output: 3"
      ],
      "metadata": {
        "colab": {
          "base_uri": "https://localhost:8080/"
        },
        "id": "CgWasfbedCg1",
        "outputId": "eb4c43bf-b6a5-4f9e-c3cc-886efaf1143c"
      },
      "execution_count": null,
      "outputs": [
        {
          "output_type": "stream",
          "name": "stdout",
          "text": [
            "3\n"
          ]
        }
      ]
    },
    {
      "cell_type": "code",
      "source": [
        "array = np.array([1, 2, 3, 4, 5])\n",
        "mask = array > 3\n",
        "print(array[mask])  # Output: [4, 5]"
      ],
      "metadata": {
        "colab": {
          "base_uri": "https://localhost:8080/"
        },
        "id": "1Dfubyt0dEHG",
        "outputId": "2253e7bb-dae7-421c-e2ee-fc030226a3c3"
      },
      "execution_count": null,
      "outputs": [
        {
          "output_type": "stream",
          "name": "stdout",
          "text": [
            "[4 5]\n"
          ]
        }
      ]
    },
    {
      "cell_type": "markdown",
      "source": [
        "### Slicing"
      ],
      "metadata": {
        "id": "94xmvf5pdHrQ"
      }
    },
    {
      "cell_type": "markdown",
      "source": [
        "- Slicing refers to accessing a subset or range of elements from an array. It allows you to retrieve a portion of the array by specifying a start, stop, and step.\n",
        "\n",
        "- Use colon : notation to specify the range with use of square brackets\n",
        "\n",
        "- Slicing returns a view of the original array, meaning modifications to the slice can affect the original array."
      ],
      "metadata": {
        "id": "niFqsICudKVH"
      }
    },
    {
      "cell_type": "code",
      "source": [
        "array = np.array([10, 20, 30, 40, 50])\n",
        "print(array[1:4])  # Output: [20, 30, 40]"
      ],
      "metadata": {
        "colab": {
          "base_uri": "https://localhost:8080/"
        },
        "id": "2zd97_gydbf_",
        "outputId": "7b28e6ea-e0a5-473b-f2c5-0bdc77221fbd"
      },
      "execution_count": null,
      "outputs": [
        {
          "output_type": "stream",
          "name": "stdout",
          "text": [
            "[20 30 40]\n"
          ]
        }
      ]
    },
    {
      "cell_type": "code",
      "source": [
        "array = np.array([10, 20, 30, 40, 50])\n",
        "print(array[::2])  # Output: [10, 30, 50]"
      ],
      "metadata": {
        "colab": {
          "base_uri": "https://localhost:8080/"
        },
        "id": "PSVDZaLWdbjw",
        "outputId": "ed61a945-ff40-4971-b9b1-c4dc8796a7ab"
      },
      "execution_count": null,
      "outputs": [
        {
          "output_type": "stream",
          "name": "stdout",
          "text": [
            "[10 30 50]\n"
          ]
        }
      ]
    },
    {
      "cell_type": "code",
      "source": [
        "array2d = np.array([[1, 2, 3], [4, 5, 6], [7, 8, 9]])\n",
        "print(array2d[1:, :2])  # Output: [[4, 5], [7, 8]]"
      ],
      "metadata": {
        "colab": {
          "base_uri": "https://localhost:8080/"
        },
        "id": "qSf4VoWHdbmr",
        "outputId": "461758ce-ca6b-412f-8db5-a919f0b32806"
      },
      "execution_count": null,
      "outputs": [
        {
          "output_type": "stream",
          "name": "stdout",
          "text": [
            "[[4 5]\n",
            " [7 8]]\n"
          ]
        }
      ]
    },
    {
      "cell_type": "markdown",
      "source": [
        "### Masked Arrays"
      ],
      "metadata": {
        "id": "l3AeWYLjd56v"
      }
    },
    {
      "cell_type": "markdown",
      "source": [
        "- Masked arrays are useful when you need to handle data that contains missing or invalid entries\n",
        "\n",
        "- The mask is a boolean array that indicates which values in the data array are to be considered as \"invalid\" or \"missing.\n",
        "\n",
        "- Operations on masked arrays will typically ignore the masked (invalid) values."
      ],
      "metadata": {
        "id": "pTxxqrJ0eEGa"
      }
    },
    {
      "cell_type": "code",
      "source": [
        "# Create an array with some missing values\n",
        "data = np.array([1, 2, -999, 4, -999, 6])\n",
        "\n",
        "# Create a mask where -999 is considered as missing\n",
        "mask = data == -999\n",
        "\n",
        "# Create a masked array\n",
        "masked_array = np.ma.masked_array(data, mask)\n",
        "\n",
        "print(\"Masked Array:\")\n",
        "print(masked_array)"
      ],
      "metadata": {
        "colab": {
          "base_uri": "https://localhost:8080/"
        },
        "id": "ZWvamlKFeWkp",
        "outputId": "465b6dc5-46c1-4666-d02b-6472dbe1e677"
      },
      "execution_count": null,
      "outputs": [
        {
          "output_type": "stream",
          "name": "stdout",
          "text": [
            "Masked Array:\n",
            "[1 2 -- 4 -- 6]\n"
          ]
        }
      ]
    },
    {
      "cell_type": "code",
      "source": [
        "data = np.array([1, 2, 3, 4, 5])\n",
        "mask = np.array([False, True, False, False, True])\n",
        "\n",
        "masked_array = np.ma.masked_array(data, mask)\n",
        "print(\"Masked Array:\", masked_array)"
      ],
      "metadata": {
        "colab": {
          "base_uri": "https://localhost:8080/"
        },
        "id": "C3mase8keWnZ",
        "outputId": "3a365d37-fed5-4c19-c37a-ea309e722105"
      },
      "execution_count": null,
      "outputs": [
        {
          "output_type": "stream",
          "name": "stdout",
          "text": [
            "Masked Array: [1 -- 3 4 --]\n"
          ]
        }
      ]
    },
    {
      "cell_type": "code",
      "source": [
        "data = np.array([1, 2, 999, 4, 999])\n",
        "masked_array = np.ma.masked_values(data, 999)\n",
        "\n",
        "print(\"Masked Array with masked values of 999:\")\n",
        "print(masked_array)"
      ],
      "metadata": {
        "colab": {
          "base_uri": "https://localhost:8080/"
        },
        "id": "a__PIka_eWqv",
        "outputId": "4d5835d0-aa99-473b-a4e3-9fb5844e2fbf"
      },
      "execution_count": null,
      "outputs": [
        {
          "output_type": "stream",
          "name": "stdout",
          "text": [
            "Masked Array with masked values of 999:\n",
            "[1 2 -- 4 --]\n"
          ]
        }
      ]
    },
    {
      "cell_type": "code",
      "source": [
        "data = np.array([1, 2, np.nan, 4, 5])\n",
        "mask = np.isnan(data)\n",
        "masked_array = np.ma.masked_array(data, mask)\n",
        "\n",
        "mean_value = np.ma.mean(masked_array)\n",
        "print(\"Mean of Masked Array:\", mean_value)"
      ],
      "metadata": {
        "colab": {
          "base_uri": "https://localhost:8080/"
        },
        "id": "4OFBTZMSen12",
        "outputId": "e0ab3d7d-9c34-4aaa-e507-ceb49db2221e"
      },
      "execution_count": null,
      "outputs": [
        {
          "output_type": "stream",
          "name": "stdout",
          "text": [
            "Mean of Masked Array: 3.0\n"
          ]
        }
      ]
    },
    {
      "cell_type": "markdown",
      "source": [
        "# Visualization and Plotting"
      ],
      "metadata": {
        "id": "1OMtdJqoe4HY"
      }
    },
    {
      "cell_type": "markdown",
      "source": [
        "### matplotlib"
      ],
      "metadata": {
        "id": "1sRfyWIqfZbo"
      }
    },
    {
      "cell_type": "code",
      "source": [
        "import matplotlib.pyplot as plt\n",
        "\n",
        "# Creating data for visualization\n",
        "x = np.linspace(0, 10, 100)  # 100 points between 0 and 10\n",
        "y = np.sin(x)\n",
        "\n",
        "# Plotting the data\n",
        "plt.plot(x, y, label='sin(x)')\n",
        "plt.xlabel('x')\n",
        "plt.ylabel('sin(x)')\n",
        "plt.title('Sine Wave')\n",
        "plt.legend()\n",
        "plt.show()\n"
      ],
      "metadata": {
        "colab": {
          "base_uri": "https://localhost:8080/",
          "height": 472
        },
        "id": "aZwWh774e8NZ",
        "outputId": "6527fb12-2c05-4240-e758-0d88b059b047"
      },
      "execution_count": null,
      "outputs": [
        {
          "output_type": "display_data",
          "data": {
            "text/plain": [
              "<Figure size 640x480 with 1 Axes>"
            ],
            "image/png": "[encoded data removed]"
          },
          "metadata": {}
        }
      ]
    },
    {
      "cell_type": "code",
      "source": [
        "import numpy as np\n",
        "import matplotlib.pyplot as plt\n",
        "\n",
        "# Create NumPy arrays\n",
        "x = np.random.rand(50)\n",
        "y = np.random.rand(50)\n",
        "\n",
        "# Plot the data\n",
        "plt.scatter(x, y)\n",
        "plt.title('Scatter Plot')\n",
        "plt.xlabel('x')\n",
        "plt.ylabel('y')\n",
        "plt.show()\n"
      ],
      "metadata": {
        "colab": {
          "base_uri": "https://localhost:8080/",
          "height": 472
        },
        "id": "Akv9n4UxfTOf",
        "outputId": "4412aecb-d913-4fac-b98f-680968ce2efb"
      },
      "execution_count": null,
      "outputs": [
        {
          "output_type": "display_data",
          "data": {
            "text/plain": [
              "<Figure size 640x480 with 1 Axes>"
            ],
            "image/png": "[encoded data removed]"
          },
          "metadata": {}
        }
      ]
    },
    {
      "cell_type": "code",
      "source": [
        "import numpy as np\n",
        "import matplotlib.pyplot as plt\n",
        "\n",
        "# Create a NumPy array\n",
        "data = np.random.randn(1000)\n",
        "\n",
        "# Plot the histogram\n",
        "plt.hist(data, bins=30)\n",
        "plt.title('Histogram')\n",
        "plt.xlabel('Value')\n",
        "plt.ylabel('Frequency')\n",
        "plt.show()\n"
      ],
      "metadata": {
        "colab": {
          "base_uri": "https://localhost:8080/",
          "height": 472
        },
        "id": "3AJmZwmOfTxV",
        "outputId": "d430e043-52ff-47dc-dc18-099b5e88f715"
      },
      "execution_count": null,
      "outputs": [
        {
          "output_type": "display_data",
          "data": {
            "text/plain": [
              "<Figure size 640x480 with 1 Axes>"
            ],
            "image/png": "[encoded data removed]"
          },
          "metadata": {}
        }
      ]
    },
    {
      "cell_type": "code",
      "source": [
        "import numpy as np\n",
        "import matplotlib.pyplot as plt\n",
        "\n",
        "# Create a NumPy array\n",
        "data = np.random.rand(10, 10)\n",
        "\n",
        "# Plot the heatmap\n",
        "plt.imshow(data, cmap='viridis', interpolation='nearest')\n",
        "plt.colorbar()\n",
        "plt.title('Heatmap')\n",
        "plt.show()\n"
      ],
      "metadata": {
        "colab": {
          "base_uri": "https://localhost:8080/",
          "height": 452
        },
        "id": "Suf3EYL3fV1l",
        "outputId": "e141dcd6-019f-45dd-9a3d-ecf8d9f4377b"
      },
      "execution_count": null,
      "outputs": [
        {
          "output_type": "display_data",
          "data": {
            "text/plain": [
              "<Figure size 640x480 with 2 Axes>"
            ],
            "image/png": "[encoded data removed]"
          },
          "metadata": {}
        }
      ]
    },
    {
      "cell_type": "markdown",
      "source": [
        "### seaborn"
      ],
      "metadata": {
        "id": "dhnuDvJKfcXV"
      }
    },
    {
      "cell_type": "code",
      "source": [
        "import numpy as np\n",
        "import seaborn as sns\n",
        "import matplotlib.pyplot as plt\n",
        "\n",
        "# Create a NumPy array\n",
        "data = np.random.rand(10, 10)\n",
        "\n",
        "# Plot the heatmap\n",
        "sns.heatmap(data, annot=True, cmap='viridis')\n",
        "plt.title('Heatmap with Seaborn')\n",
        "plt.show()"
      ],
      "metadata": {
        "colab": {
          "base_uri": "https://localhost:8080/",
          "height": 452
        },
        "id": "dYv8oQJCfX1N",
        "outputId": "352d36c9-005c-48ea-a043-64ea8e2babeb"
      },
      "execution_count": null,
      "outputs": [
        {
          "output_type": "display_data",
          "data": {
            "text/plain": [
              "<Figure size 640x480 with 2 Axes>"
            ],
            "image/png": "[encoded data removed]"
          },
          "metadata": {}
        }
      ]
    },
    {
      "cell_type": "code",
      "source": [
        "import seaborn as sns\n",
        "import pandas as pd\n",
        "\n",
        "# Create a DataFrame\n",
        "df = pd.DataFrame({\n",
        "    'A': np.random.rand(100),\n",
        "    'B': np.random.rand(100),\n",
        "    'C': np.random.rand(100)\n",
        "})\n",
        "\n",
        "# Plot pair plot\n",
        "sns.pairplot(df)\n",
        "plt.title('Pair Plot')\n",
        "plt.show()\n"
      ],
      "metadata": {
        "colab": {
          "base_uri": "https://localhost:8080/",
          "height": 758
        },
        "id": "0PH6ys3affR2",
        "outputId": "902049c2-effd-4df8-89d3-f65717d14fb6"
      },
      "execution_count": null,
      "outputs": [
        {
          "output_type": "display_data",
          "data": {
            "text/plain": [
              "<Figure size 750x750 with 12 Axes>"
            ],
            "image/png": "[encoded data removed]"
          },
          "metadata": {}
        }
      ]
    },
    {
      "cell_type": "code",
      "source": [
        "import seaborn as sns\n",
        "import numpy as np\n",
        "\n",
        "# Create a NumPy array\n",
        "data = np.random.randn(1000)\n",
        "\n",
        "# Plot the distribution\n",
        "sns.histplot(data, kde=True)\n",
        "plt.title('Distribution Plot')\n",
        "plt.show()\n"
      ],
      "metadata": {
        "colab": {
          "base_uri": "https://localhost:8080/",
          "height": 452
        },
        "id": "YVKiKL83fief",
        "outputId": "799c8875-148e-4a07-ccfe-576f2096b4c0"
      },
      "execution_count": null,
      "outputs": [
        {
          "output_type": "display_data",
          "data": {
            "text/plain": [
              "<Figure size 640x480 with 1 Axes>"
            ],
            "image/png": "[encoded data removed]"
          },
          "metadata": {}
        }
      ]
    },
    {
      "cell_type": "markdown",
      "source": [
        "# Addtional topics"
      ],
      "metadata": {
        "id": "M9kc09Mvf0F1"
      }
    },
    {
      "cell_type": "markdown",
      "source": [
        "### Saving and Loading NumPy Arrays"
      ],
      "metadata": {
        "id": "uR697fqMgKhG"
      }
    },
    {
      "cell_type": "code",
      "source": [
        "import numpy as np\n",
        "\n",
        "# Creating a sample array\n",
        "array = np.array([1, 2, 3, 4, 5])\n",
        "\n",
        "# Saving the array to a file\n",
        "np.save('my_array.npy', array)\n",
        "\n",
        "# Loading the array from the file\n",
        "loaded_array = np.load('my_array.npy')\n",
        "\n",
        "print(\"Loaded Array:\", loaded_array)"
      ],
      "metadata": {
        "colab": {
          "base_uri": "https://localhost:8080/"
        },
        "id": "zvDsqG64gL1m",
        "outputId": "5362920e-2b80-4cbc-8267-b8d822ba0dad"
      },
      "execution_count": null,
      "outputs": [
        {
          "output_type": "stream",
          "name": "stdout",
          "text": [
            "Loaded Array: [1 2 3 4 5]\n"
          ]
        }
      ]
    },
    {
      "cell_type": "markdown",
      "source": [
        "### Optimization in NumPy: Using numexpr"
      ],
      "metadata": {
        "id": "8MwKPlz-gdGE"
      }
    },
    {
      "cell_type": "markdown",
      "source": [
        "numexpr can be used to optimize large NumPy array operations by using multi-threading and efficient memory use."
      ],
      "metadata": {
        "id": "GHsLBWdHgthc"
      }
    },
    {
      "cell_type": "code",
      "source": [
        "import numpy as np\n",
        "import numexpr as ne\n",
        "\n",
        "# Creating large arrays\n",
        "a = np.random.rand(1000000)\n",
        "b = np.random.rand(1000000)\n",
        "\n",
        "# Optimized computation using numexpr\n",
        "result = ne.evaluate('a + b')\n",
        "\n",
        "print(\"Result:\", result[:5])  # Display the first 5 elements"
      ],
      "metadata": {
        "colab": {
          "base_uri": "https://localhost:8080/"
        },
        "id": "BUljGo1sgL4v",
        "outputId": "3908f7e9-233c-4625-e798-03b0e4f1caf0"
      },
      "execution_count": null,
      "outputs": [
        {
          "output_type": "stream",
          "name": "stdout",
          "text": [
            "Result: [1.34345651 1.21505955 1.15887655 1.29953612 1.13610406]\n"
          ]
        }
      ]
    },
    {
      "cell_type": "markdown",
      "source": [
        "numexpr supports a wide range of mathematical functions, including trigonometric, exponential, logarithmic, and statistical functions."
      ],
      "metadata": {
        "id": "KhkW_VYxhIL2"
      }
    },
    {
      "cell_type": "code",
      "source": [
        "import numexpr as ne\n",
        "import numpy as np\n",
        "\n",
        "# Create NumPy arrays\n",
        "x = np.array([1, 2, 3])\n",
        "\n",
        "# Evaluate trigonometric function\n",
        "result = ne.evaluate('sin(x) + cos(x)')\n",
        "print(result)"
      ],
      "metadata": {
        "colab": {
          "base_uri": "https://localhost:8080/"
        },
        "id": "ZrwP-5P1gL9Y",
        "outputId": "f86f30cb-8eb4-44b5-d739-3419db622524"
      },
      "execution_count": null,
      "outputs": [
        {
          "output_type": "stream",
          "name": "stdout",
          "text": [
            "[ 1.38177329  0.49315059 -0.84887249]\n"
          ]
        }
      ]
    },
    {
      "cell_type": "markdown",
      "source": [
        "we can use conditional expressions and logical operations."
      ],
      "metadata": {
        "id": "X4DsTcFvhPGg"
      }
    },
    {
      "cell_type": "code",
      "source": [
        "import numexpr as ne\n",
        "import numpy as np\n",
        "\n",
        "# Create NumPy arrays\n",
        "x = np.array([1, 2, 3])\n",
        "y = np.array([4, 5, 6])\n",
        "\n",
        "# Evaluate conditional expression\n",
        "result = ne.evaluate('where(x > 1, x * y, x + y)')\n",
        "print(result)"
      ],
      "metadata": {
        "colab": {
          "base_uri": "https://localhost:8080/"
        },
        "id": "-IXuzkelhQzK",
        "outputId": "d215159f-e975-46ae-bb43-546ff86ef9fc"
      },
      "execution_count": null,
      "outputs": [
        {
          "output_type": "stream",
          "name": "stdout",
          "text": [
            "[ 5 10 18]\n"
          ]
        }
      ]
    }
  ]
}